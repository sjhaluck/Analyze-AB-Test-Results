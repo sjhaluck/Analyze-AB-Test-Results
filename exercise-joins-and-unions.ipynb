{
 "cells": [
  {
   "cell_type": "markdown",
   "id": "1e706081",
   "metadata": {
    "papermill": {
     "duration": 0.01803,
     "end_time": "2022-03-08T13:23:04.183923",
     "exception": false,
     "start_time": "2022-03-08T13:23:04.165893",
     "status": "completed"
    },
    "tags": []
   },
   "source": [
    "**This notebook is an exercise in the [Advanced SQL](https://www.kaggle.com/learn/advanced-sql) course.  You can reference the tutorial at [this link](https://www.kaggle.com/alexisbcook/joins-and-unions).**\n",
    "\n",
    "---\n"
   ]
  },
  {
   "cell_type": "markdown",
   "id": "ee93b7e5",
   "metadata": {
    "papermill": {
     "duration": 0.016098,
     "end_time": "2022-03-08T13:23:04.215061",
     "exception": false,
     "start_time": "2022-03-08T13:23:04.198963",
     "status": "completed"
    },
    "tags": []
   },
   "source": [
    "# Introduction\n",
    "\n",
    "Here, you'll use different types of SQL **JOINs** to answer questions about the [Stack Overflow](https://www.kaggle.com/stackoverflow/stackoverflow) dataset.\n",
    "\n",
    "Before you get started, run the following cell to set everything up."
   ]
  },
  {
   "cell_type": "code",
   "execution_count": 1,
   "id": "a48aee51",
   "metadata": {
    "execution": {
     "iopub.execute_input": "2022-03-08T13:23:04.255264Z",
     "iopub.status.busy": "2022-03-08T13:23:04.253445Z",
     "iopub.status.idle": "2022-03-08T13:23:19.463362Z",
     "shell.execute_reply": "2022-03-08T13:23:19.464055Z",
     "shell.execute_reply.started": "2022-03-08T13:10:42.946703Z"
    },
    "papermill": {
     "duration": 15.233548,
     "end_time": "2022-03-08T13:23:19.464499",
     "exception": false,
     "start_time": "2022-03-08T13:23:04.230951",
     "status": "completed"
    },
    "tags": []
   },
   "outputs": [
    {
     "name": "stdout",
     "output_type": "stream",
     "text": [
      "Using Kaggle's public dataset BigQuery integration.\n"
     ]
    },
    {
     "name": "stderr",
     "output_type": "stream",
     "text": [
      "/opt/conda/lib/python3.7/site-packages/google/cloud/bigquery/client.py:440: UserWarning: Cannot create BigQuery Storage client, the dependency google-cloud-bigquery-storage is not installed.\n",
      "  \"Cannot create BigQuery Storage client, the dependency \"\n"
     ]
    },
    {
     "name": "stdout",
     "output_type": "stream",
     "text": [
      "Setup Complete\n"
     ]
    }
   ],
   "source": [
    "# Set up feedback system\n",
    "from learntools.core import binder\n",
    "binder.bind(globals())\n",
    "from learntools.sql_advanced.ex1 import *\n",
    "print(\"Setup Complete\")"
   ]
  },
  {
   "cell_type": "markdown",
   "id": "0e09402d",
   "metadata": {
    "papermill": {
     "duration": 0.018012,
     "end_time": "2022-03-08T13:23:19.500137",
     "exception": false,
     "start_time": "2022-03-08T13:23:19.482125",
     "status": "completed"
    },
    "tags": []
   },
   "source": [
    "The code cell below fetches the `posts_questions` table from the `stackoverflow` dataset.  We also preview the first five rows of the table."
   ]
  },
  {
   "cell_type": "code",
   "execution_count": 2,
   "id": "4aa6ad57",
   "metadata": {
    "execution": {
     "iopub.execute_input": "2022-03-08T13:23:19.539479Z",
     "iopub.status.busy": "2022-03-08T13:23:19.538529Z",
     "iopub.status.idle": "2022-03-08T13:23:20.506853Z",
     "shell.execute_reply": "2022-03-08T13:23:20.507351Z",
     "shell.execute_reply.started": "2022-03-08T13:11:00.996493Z"
    },
    "papermill": {
     "duration": 0.990382,
     "end_time": "2022-03-08T13:23:20.507539",
     "exception": false,
     "start_time": "2022-03-08T13:23:19.517157",
     "status": "completed"
    },
    "tags": []
   },
   "outputs": [
    {
     "name": "stdout",
     "output_type": "stream",
     "text": [
      "Using Kaggle's public dataset BigQuery integration.\n"
     ]
    },
    {
     "name": "stderr",
     "output_type": "stream",
     "text": [
      "/opt/conda/lib/python3.7/site-packages/ipykernel_launcher.py:19: UserWarning: Cannot use bqstorage_client if max_results is set, reverting to fetching data with the tabledata.list endpoint.\n"
     ]
    },
    {
     "data": {
      "text/html": [
       "<div>\n",
       "<style scoped>\n",
       "    .dataframe tbody tr th:only-of-type {\n",
       "        vertical-align: middle;\n",
       "    }\n",
       "\n",
       "    .dataframe tbody tr th {\n",
       "        vertical-align: top;\n",
       "    }\n",
       "\n",
       "    .dataframe thead th {\n",
       "        text-align: right;\n",
       "    }\n",
       "</style>\n",
       "<table border=\"1\" class=\"dataframe\">\n",
       "  <thead>\n",
       "    <tr style=\"text-align: right;\">\n",
       "      <th></th>\n",
       "      <th>id</th>\n",
       "      <th>title</th>\n",
       "      <th>body</th>\n",
       "      <th>accepted_answer_id</th>\n",
       "      <th>answer_count</th>\n",
       "      <th>comment_count</th>\n",
       "      <th>community_owned_date</th>\n",
       "      <th>creation_date</th>\n",
       "      <th>favorite_count</th>\n",
       "      <th>last_activity_date</th>\n",
       "      <th>last_edit_date</th>\n",
       "      <th>last_editor_display_name</th>\n",
       "      <th>last_editor_user_id</th>\n",
       "      <th>owner_display_name</th>\n",
       "      <th>owner_user_id</th>\n",
       "      <th>parent_id</th>\n",
       "      <th>post_type_id</th>\n",
       "      <th>score</th>\n",
       "      <th>tags</th>\n",
       "      <th>view_count</th>\n",
       "    </tr>\n",
       "  </thead>\n",
       "  <tbody>\n",
       "    <tr>\n",
       "      <th>0</th>\n",
       "      <td>69955098</td>\n",
       "      <td>XCode App Creation Error : STATE_ERROR.APP_CRE...</td>\n",
       "      <td>&lt;p&gt;Just wanted to share the solution from a pr...</td>\n",
       "      <td>NaN</td>\n",
       "      <td>1</td>\n",
       "      <td>0</td>\n",
       "      <td>NaT</td>\n",
       "      <td>2021-11-13 14:16:47.457000+00:00</td>\n",
       "      <td>NaN</td>\n",
       "      <td>2021-11-13 14:16:47.457000+00:00</td>\n",
       "      <td>NaT</td>\n",
       "      <td>None</td>\n",
       "      <td>NaN</td>\n",
       "      <td>None</td>\n",
       "      <td>10545581</td>\n",
       "      <td>None</td>\n",
       "      <td>1</td>\n",
       "      <td>0</td>\n",
       "      <td>ios|xcode|app-store</td>\n",
       "      <td>256</td>\n",
       "    </tr>\n",
       "    <tr>\n",
       "      <th>1</th>\n",
       "      <td>69994834</td>\n",
       "      <td>attributeerror: 'AioClientCreator' object has ...</td>\n",
       "      <td>&lt;p&gt;Recently, I have started to occupy the AWS ...</td>\n",
       "      <td>NaN</td>\n",
       "      <td>1</td>\n",
       "      <td>0</td>\n",
       "      <td>NaT</td>\n",
       "      <td>2021-11-16 19:10:32.050000+00:00</td>\n",
       "      <td>0.0</td>\n",
       "      <td>2021-11-19 01:17:12.260000+00:00</td>\n",
       "      <td>2021-11-17 12:40:32.837000+00:00</td>\n",
       "      <td>None</td>\n",
       "      <td>11407227.0</td>\n",
       "      <td>None</td>\n",
       "      <td>11407227</td>\n",
       "      <td>None</td>\n",
       "      <td>1</td>\n",
       "      <td>5</td>\n",
       "      <td>python|python-3.x|amazon-web-services|apache-s...</td>\n",
       "      <td>768</td>\n",
       "    </tr>\n",
       "    <tr>\n",
       "      <th>2</th>\n",
       "      <td>70231696</td>\n",
       "      <td>how to stream google drive files on ios?</td>\n",
       "      <td>&lt;p&gt;good afternoon, SO my main problem is not b...</td>\n",
       "      <td>NaN</td>\n",
       "      <td>0</td>\n",
       "      <td>0</td>\n",
       "      <td>NaT</td>\n",
       "      <td>2021-12-05 05:26:09.073000+00:00</td>\n",
       "      <td>NaN</td>\n",
       "      <td>2021-12-05 05:26:09.073000+00:00</td>\n",
       "      <td>NaT</td>\n",
       "      <td>None</td>\n",
       "      <td>NaN</td>\n",
       "      <td>None</td>\n",
       "      <td>17592464</td>\n",
       "      <td>None</td>\n",
       "      <td>1</td>\n",
       "      <td>0</td>\n",
       "      <td>google-drive-shared-drive</td>\n",
       "      <td>1</td>\n",
       "    </tr>\n",
       "    <tr>\n",
       "      <th>3</th>\n",
       "      <td>69986303</td>\n",
       "      <td>Microsoft Graph description retrival from a dr...</td>\n",
       "      <td>&lt;p&gt;I have a drive id in MSGraph url and i want...</td>\n",
       "      <td>NaN</td>\n",
       "      <td>0</td>\n",
       "      <td>0</td>\n",
       "      <td>NaT</td>\n",
       "      <td>2021-11-16 09:04:09.047000+00:00</td>\n",
       "      <td>NaN</td>\n",
       "      <td>2021-11-16 09:04:09.047000+00:00</td>\n",
       "      <td>NaT</td>\n",
       "      <td>None</td>\n",
       "      <td>NaN</td>\n",
       "      <td>None</td>\n",
       "      <td>17426431</td>\n",
       "      <td>None</td>\n",
       "      <td>1</td>\n",
       "      <td>0</td>\n",
       "      <td>graph</td>\n",
       "      <td>2</td>\n",
       "    </tr>\n",
       "    <tr>\n",
       "      <th>4</th>\n",
       "      <td>70034647</td>\n",
       "      <td>When I run EB CLI's `eb deploy` after changing...</td>\n",
       "      <td>&lt;p&gt;I am using MacOS. I have a project containi...</td>\n",
       "      <td>NaN</td>\n",
       "      <td>0</td>\n",
       "      <td>0</td>\n",
       "      <td>NaT</td>\n",
       "      <td>2021-11-19 12:11:40.033000+00:00</td>\n",
       "      <td>NaN</td>\n",
       "      <td>2021-11-19 12:11:40.033000+00:00</td>\n",
       "      <td>NaT</td>\n",
       "      <td>None</td>\n",
       "      <td>NaN</td>\n",
       "      <td>None</td>\n",
       "      <td>5645465</td>\n",
       "      <td>None</td>\n",
       "      <td>1</td>\n",
       "      <td>0</td>\n",
       "      <td>node.js|ebcli</td>\n",
       "      <td>2</td>\n",
       "    </tr>\n",
       "  </tbody>\n",
       "</table>\n",
       "</div>"
      ],
      "text/plain": [
       "         id                                              title  \\\n",
       "0  69955098  XCode App Creation Error : STATE_ERROR.APP_CRE...   \n",
       "1  69994834  attributeerror: 'AioClientCreator' object has ...   \n",
       "2  70231696           how to stream google drive files on ios?   \n",
       "3  69986303  Microsoft Graph description retrival from a dr...   \n",
       "4  70034647  When I run EB CLI's `eb deploy` after changing...   \n",
       "\n",
       "                                                body  accepted_answer_id  \\\n",
       "0  <p>Just wanted to share the solution from a pr...                 NaN   \n",
       "1  <p>Recently, I have started to occupy the AWS ...                 NaN   \n",
       "2  <p>good afternoon, SO my main problem is not b...                 NaN   \n",
       "3  <p>I have a drive id in MSGraph url and i want...                 NaN   \n",
       "4  <p>I am using MacOS. I have a project containi...                 NaN   \n",
       "\n",
       "   answer_count  comment_count community_owned_date  \\\n",
       "0             1              0                  NaT   \n",
       "1             1              0                  NaT   \n",
       "2             0              0                  NaT   \n",
       "3             0              0                  NaT   \n",
       "4             0              0                  NaT   \n",
       "\n",
       "                     creation_date  favorite_count  \\\n",
       "0 2021-11-13 14:16:47.457000+00:00             NaN   \n",
       "1 2021-11-16 19:10:32.050000+00:00             0.0   \n",
       "2 2021-12-05 05:26:09.073000+00:00             NaN   \n",
       "3 2021-11-16 09:04:09.047000+00:00             NaN   \n",
       "4 2021-11-19 12:11:40.033000+00:00             NaN   \n",
       "\n",
       "                last_activity_date                   last_edit_date  \\\n",
       "0 2021-11-13 14:16:47.457000+00:00                              NaT   \n",
       "1 2021-11-19 01:17:12.260000+00:00 2021-11-17 12:40:32.837000+00:00   \n",
       "2 2021-12-05 05:26:09.073000+00:00                              NaT   \n",
       "3 2021-11-16 09:04:09.047000+00:00                              NaT   \n",
       "4 2021-11-19 12:11:40.033000+00:00                              NaT   \n",
       "\n",
       "  last_editor_display_name  last_editor_user_id owner_display_name  \\\n",
       "0                     None                  NaN               None   \n",
       "1                     None           11407227.0               None   \n",
       "2                     None                  NaN               None   \n",
       "3                     None                  NaN               None   \n",
       "4                     None                  NaN               None   \n",
       "\n",
       "   owner_user_id parent_id  post_type_id  score  \\\n",
       "0       10545581      None             1      0   \n",
       "1       11407227      None             1      5   \n",
       "2       17592464      None             1      0   \n",
       "3       17426431      None             1      0   \n",
       "4        5645465      None             1      0   \n",
       "\n",
       "                                                tags  view_count  \n",
       "0                                ios|xcode|app-store         256  \n",
       "1  python|python-3.x|amazon-web-services|apache-s...         768  \n",
       "2                          google-drive-shared-drive           1  \n",
       "3                                              graph           2  \n",
       "4                                      node.js|ebcli           2  "
      ]
     },
     "execution_count": 2,
     "metadata": {},
     "output_type": "execute_result"
    }
   ],
   "source": [
    "from google.cloud import bigquery\n",
    "\n",
    "# Create a \"Client\" object\n",
    "client = bigquery.Client()\n",
    "\n",
    "# Construct a reference to the \"stackoverflow\" dataset\n",
    "dataset_ref = client.dataset(\"stackoverflow\", project=\"bigquery-public-data\")\n",
    "\n",
    "# API request - fetch the dataset\n",
    "dataset = client.get_dataset(dataset_ref)\n",
    "\n",
    "# Construct a reference to the \"posts_questions\" table\n",
    "table_ref = dataset_ref.table(\"posts_questions\")\n",
    "\n",
    "# API request - fetch the table\n",
    "table = client.get_table(table_ref)\n",
    "\n",
    "# Preview the first five lines of the table\n",
    "client.list_rows(table, max_results=5).to_dataframe()"
   ]
  },
  {
   "cell_type": "markdown",
   "id": "844640ab",
   "metadata": {
    "papermill": {
     "duration": 0.017816,
     "end_time": "2022-03-08T13:23:20.542929",
     "exception": false,
     "start_time": "2022-03-08T13:23:20.525113",
     "status": "completed"
    },
    "tags": []
   },
   "source": [
    "We also take a look at the `posts_answers` table."
   ]
  },
  {
   "cell_type": "code",
   "execution_count": 3,
   "id": "77756e86",
   "metadata": {
    "execution": {
     "iopub.execute_input": "2022-03-08T13:23:20.584384Z",
     "iopub.status.busy": "2022-03-08T13:23:20.583383Z",
     "iopub.status.idle": "2022-03-08T13:23:20.974425Z",
     "shell.execute_reply": "2022-03-08T13:23:20.974962Z",
     "shell.execute_reply.started": "2022-03-08T13:11:01.982826Z"
    },
    "papermill": {
     "duration": 0.414071,
     "end_time": "2022-03-08T13:23:20.975154",
     "exception": false,
     "start_time": "2022-03-08T13:23:20.561083",
     "status": "completed"
    },
    "tags": []
   },
   "outputs": [
    {
     "name": "stderr",
     "output_type": "stream",
     "text": [
      "/opt/conda/lib/python3.7/site-packages/ipykernel_launcher.py:8: UserWarning: Cannot use bqstorage_client if max_results is set, reverting to fetching data with the tabledata.list endpoint.\n",
      "  \n"
     ]
    },
    {
     "data": {
      "text/html": [
       "<div>\n",
       "<style scoped>\n",
       "    .dataframe tbody tr th:only-of-type {\n",
       "        vertical-align: middle;\n",
       "    }\n",
       "\n",
       "    .dataframe tbody tr th {\n",
       "        vertical-align: top;\n",
       "    }\n",
       "\n",
       "    .dataframe thead th {\n",
       "        text-align: right;\n",
       "    }\n",
       "</style>\n",
       "<table border=\"1\" class=\"dataframe\">\n",
       "  <thead>\n",
       "    <tr style=\"text-align: right;\">\n",
       "      <th></th>\n",
       "      <th>id</th>\n",
       "      <th>title</th>\n",
       "      <th>body</th>\n",
       "      <th>accepted_answer_id</th>\n",
       "      <th>answer_count</th>\n",
       "      <th>comment_count</th>\n",
       "      <th>community_owned_date</th>\n",
       "      <th>creation_date</th>\n",
       "      <th>favorite_count</th>\n",
       "      <th>last_activity_date</th>\n",
       "      <th>last_edit_date</th>\n",
       "      <th>last_editor_display_name</th>\n",
       "      <th>last_editor_user_id</th>\n",
       "      <th>owner_display_name</th>\n",
       "      <th>owner_user_id</th>\n",
       "      <th>parent_id</th>\n",
       "      <th>post_type_id</th>\n",
       "      <th>score</th>\n",
       "      <th>tags</th>\n",
       "      <th>view_count</th>\n",
       "    </tr>\n",
       "  </thead>\n",
       "  <tbody>\n",
       "    <tr>\n",
       "      <th>0</th>\n",
       "      <td>69637232</td>\n",
       "      <td>None</td>\n",
       "      <td>&lt;p&gt;I'd suggest trying pyspark/spark&lt;/p&gt;\\n&lt;pre&gt;...</td>\n",
       "      <td>None</td>\n",
       "      <td>None</td>\n",
       "      <td>1</td>\n",
       "      <td>NaT</td>\n",
       "      <td>2021-10-19 20:23:05.930000+00:00</td>\n",
       "      <td>None</td>\n",
       "      <td>2021-10-19 20:23:05.930000+00:00</td>\n",
       "      <td>NaT</td>\n",
       "      <td>None</td>\n",
       "      <td>NaN</td>\n",
       "      <td>None</td>\n",
       "      <td>13535120</td>\n",
       "      <td>69588989</td>\n",
       "      <td>2</td>\n",
       "      <td>0</td>\n",
       "      <td>None</td>\n",
       "      <td>None</td>\n",
       "    </tr>\n",
       "    <tr>\n",
       "      <th>1</th>\n",
       "      <td>69637234</td>\n",
       "      <td>None</td>\n",
       "      <td>&lt;p&gt;If you want to use higher-level functions y...</td>\n",
       "      <td>None</td>\n",
       "      <td>None</td>\n",
       "      <td>0</td>\n",
       "      <td>NaT</td>\n",
       "      <td>2021-10-19 20:23:26.823000+00:00</td>\n",
       "      <td>None</td>\n",
       "      <td>2021-10-19 20:23:26.823000+00:00</td>\n",
       "      <td>NaT</td>\n",
       "      <td>None</td>\n",
       "      <td>NaN</td>\n",
       "      <td>None</td>\n",
       "      <td>5003756</td>\n",
       "      <td>69637076</td>\n",
       "      <td>2</td>\n",
       "      <td>0</td>\n",
       "      <td>None</td>\n",
       "      <td>None</td>\n",
       "    </tr>\n",
       "    <tr>\n",
       "      <th>2</th>\n",
       "      <td>69637236</td>\n",
       "      <td>None</td>\n",
       "      <td>&lt;p&gt;To the first question&lt;/p&gt;\\n&lt;blockquote&gt;\\n&lt;p...</td>\n",
       "      <td>None</td>\n",
       "      <td>None</td>\n",
       "      <td>0</td>\n",
       "      <td>NaT</td>\n",
       "      <td>2021-10-19 20:23:32.983000+00:00</td>\n",
       "      <td>None</td>\n",
       "      <td>2021-10-19 20:23:32.983000+00:00</td>\n",
       "      <td>NaT</td>\n",
       "      <td>None</td>\n",
       "      <td>NaN</td>\n",
       "      <td>None</td>\n",
       "      <td>16523370</td>\n",
       "      <td>69635990</td>\n",
       "      <td>2</td>\n",
       "      <td>0</td>\n",
       "      <td>None</td>\n",
       "      <td>None</td>\n",
       "    </tr>\n",
       "    <tr>\n",
       "      <th>3</th>\n",
       "      <td>69637246</td>\n",
       "      <td>None</td>\n",
       "      <td>&lt;p&gt;If you want to access a class in another cl...</td>\n",
       "      <td>None</td>\n",
       "      <td>None</td>\n",
       "      <td>0</td>\n",
       "      <td>NaT</td>\n",
       "      <td>2021-10-19 20:24:13.700000+00:00</td>\n",
       "      <td>None</td>\n",
       "      <td>2021-10-19 20:24:13.700000+00:00</td>\n",
       "      <td>NaT</td>\n",
       "      <td>None</td>\n",
       "      <td>NaN</td>\n",
       "      <td>None</td>\n",
       "      <td>16653398</td>\n",
       "      <td>69637090</td>\n",
       "      <td>2</td>\n",
       "      <td>0</td>\n",
       "      <td>None</td>\n",
       "      <td>None</td>\n",
       "    </tr>\n",
       "    <tr>\n",
       "      <th>4</th>\n",
       "      <td>69637250</td>\n",
       "      <td>None</td>\n",
       "      <td>&lt;p&gt;putting content inside an extra &lt;code&gt;&amp;lt;p...</td>\n",
       "      <td>None</td>\n",
       "      <td>None</td>\n",
       "      <td>0</td>\n",
       "      <td>NaT</td>\n",
       "      <td>2021-10-19 20:24:28.950000+00:00</td>\n",
       "      <td>None</td>\n",
       "      <td>2021-10-19 20:24:28.950000+00:00</td>\n",
       "      <td>NaT</td>\n",
       "      <td>None</td>\n",
       "      <td>NaN</td>\n",
       "      <td>None</td>\n",
       "      <td>4016922</td>\n",
       "      <td>69632918</td>\n",
       "      <td>2</td>\n",
       "      <td>0</td>\n",
       "      <td>None</td>\n",
       "      <td>None</td>\n",
       "    </tr>\n",
       "  </tbody>\n",
       "</table>\n",
       "</div>"
      ],
      "text/plain": [
       "         id title                                               body  \\\n",
       "0  69637232  None  <p>I'd suggest trying pyspark/spark</p>\\n<pre>...   \n",
       "1  69637234  None  <p>If you want to use higher-level functions y...   \n",
       "2  69637236  None  <p>To the first question</p>\\n<blockquote>\\n<p...   \n",
       "3  69637246  None  <p>If you want to access a class in another cl...   \n",
       "4  69637250  None  <p>putting content inside an extra <code>&lt;p...   \n",
       "\n",
       "  accepted_answer_id answer_count  comment_count community_owned_date  \\\n",
       "0               None         None              1                  NaT   \n",
       "1               None         None              0                  NaT   \n",
       "2               None         None              0                  NaT   \n",
       "3               None         None              0                  NaT   \n",
       "4               None         None              0                  NaT   \n",
       "\n",
       "                     creation_date favorite_count  \\\n",
       "0 2021-10-19 20:23:05.930000+00:00           None   \n",
       "1 2021-10-19 20:23:26.823000+00:00           None   \n",
       "2 2021-10-19 20:23:32.983000+00:00           None   \n",
       "3 2021-10-19 20:24:13.700000+00:00           None   \n",
       "4 2021-10-19 20:24:28.950000+00:00           None   \n",
       "\n",
       "                last_activity_date last_edit_date last_editor_display_name  \\\n",
       "0 2021-10-19 20:23:05.930000+00:00            NaT                     None   \n",
       "1 2021-10-19 20:23:26.823000+00:00            NaT                     None   \n",
       "2 2021-10-19 20:23:32.983000+00:00            NaT                     None   \n",
       "3 2021-10-19 20:24:13.700000+00:00            NaT                     None   \n",
       "4 2021-10-19 20:24:28.950000+00:00            NaT                     None   \n",
       "\n",
       "   last_editor_user_id owner_display_name  owner_user_id  parent_id  \\\n",
       "0                  NaN               None       13535120   69588989   \n",
       "1                  NaN               None        5003756   69637076   \n",
       "2                  NaN               None       16523370   69635990   \n",
       "3                  NaN               None       16653398   69637090   \n",
       "4                  NaN               None        4016922   69632918   \n",
       "\n",
       "   post_type_id  score  tags view_count  \n",
       "0             2      0  None       None  \n",
       "1             2      0  None       None  \n",
       "2             2      0  None       None  \n",
       "3             2      0  None       None  \n",
       "4             2      0  None       None  "
      ]
     },
     "execution_count": 3,
     "metadata": {},
     "output_type": "execute_result"
    }
   ],
   "source": [
    "# Construct a reference to the \"posts_answers\" table\n",
    "table_ref = dataset_ref.table(\"posts_answers\")\n",
    "\n",
    "# API request - fetch the table\n",
    "table = client.get_table(table_ref)\n",
    "\n",
    "# Preview the first five lines of the table\n",
    "client.list_rows(table, max_results=5).to_dataframe()"
   ]
  },
  {
   "cell_type": "markdown",
   "id": "a26ef065",
   "metadata": {
    "papermill": {
     "duration": 0.018664,
     "end_time": "2022-03-08T13:23:21.014355",
     "exception": false,
     "start_time": "2022-03-08T13:23:20.995691",
     "status": "completed"
    },
    "tags": []
   },
   "source": [
    "You will work with both of these tables to answer the questions below.\n",
    "\n",
    "# Exercises\n",
    "\n",
    "### 1) How long does it take for questions to receive answers?\n",
    "\n",
    "You're interested in exploring the data to have a better understanding of how long it generally takes for questions to receive answers.  Armed with this knowledge, you plan to use this information to better design the order in which questions are presented to Stack Overflow users.\n",
    "\n",
    "With this goal in mind, you write the query below, which focuses on questions asked in January 2018.  It returns a table with two columns:\n",
    "- `q_id` - the ID of the question\n",
    "- `time_to_answer` - how long it took (in seconds) for the question to receive an answer\n",
    "\n",
    "Run the query below (without changes), and take a look at the output."
   ]
  },
  {
   "cell_type": "code",
   "execution_count": 4,
   "id": "cc4bf988",
   "metadata": {
    "execution": {
     "iopub.execute_input": "2022-03-08T13:23:21.062437Z",
     "iopub.status.busy": "2022-03-08T13:23:21.061676Z",
     "iopub.status.idle": "2022-03-08T13:23:26.039974Z",
     "shell.execute_reply": "2022-03-08T13:23:26.040495Z",
     "shell.execute_reply.started": "2022-03-08T13:11:02.688805Z"
    },
    "papermill": {
     "duration": 5.002752,
     "end_time": "2022-03-08T13:23:26.040689",
     "exception": false,
     "start_time": "2022-03-08T13:23:21.037937",
     "status": "completed"
    },
    "tags": []
   },
   "outputs": [
    {
     "name": "stderr",
     "output_type": "stream",
     "text": [
      "/opt/conda/lib/python3.7/site-packages/google/cloud/bigquery/client.py:440: UserWarning: Cannot create BigQuery Storage client, the dependency google-cloud-bigquery-storage is not installed.\n",
      "  \"Cannot create BigQuery Storage client, the dependency \"\n"
     ]
    },
    {
     "name": "stdout",
     "output_type": "stream",
     "text": [
      "Percentage of answered questions: 100.0%\n",
      "Number of questions: 134700\n"
     ]
    },
    {
     "data": {
      "text/html": [
       "<div>\n",
       "<style scoped>\n",
       "    .dataframe tbody tr th:only-of-type {\n",
       "        vertical-align: middle;\n",
       "    }\n",
       "\n",
       "    .dataframe tbody tr th {\n",
       "        vertical-align: top;\n",
       "    }\n",
       "\n",
       "    .dataframe thead th {\n",
       "        text-align: right;\n",
       "    }\n",
       "</style>\n",
       "<table border=\"1\" class=\"dataframe\">\n",
       "  <thead>\n",
       "    <tr style=\"text-align: right;\">\n",
       "      <th></th>\n",
       "      <th>q_id</th>\n",
       "      <th>time_to_answer</th>\n",
       "    </tr>\n",
       "  </thead>\n",
       "  <tbody>\n",
       "    <tr>\n",
       "      <th>0</th>\n",
       "      <td>48382183</td>\n",
       "      <td>-132444692</td>\n",
       "    </tr>\n",
       "    <tr>\n",
       "      <th>1</th>\n",
       "      <td>48212364</td>\n",
       "      <td>0</td>\n",
       "    </tr>\n",
       "    <tr>\n",
       "      <th>2</th>\n",
       "      <td>48118024</td>\n",
       "      <td>0</td>\n",
       "    </tr>\n",
       "    <tr>\n",
       "      <th>3</th>\n",
       "      <td>48133602</td>\n",
       "      <td>0</td>\n",
       "    </tr>\n",
       "    <tr>\n",
       "      <th>4</th>\n",
       "      <td>48098964</td>\n",
       "      <td>0</td>\n",
       "    </tr>\n",
       "  </tbody>\n",
       "</table>\n",
       "</div>"
      ],
      "text/plain": [
       "       q_id  time_to_answer\n",
       "0  48382183      -132444692\n",
       "1  48212364               0\n",
       "2  48118024               0\n",
       "3  48133602               0\n",
       "4  48098964               0"
      ]
     },
     "execution_count": 4,
     "metadata": {},
     "output_type": "execute_result"
    }
   ],
   "source": [
    "first_query = \"\"\"\n",
    "              SELECT q.id AS q_id,\n",
    "                  MIN(TIMESTAMP_DIFF(a.creation_date, q.creation_date, SECOND)) as time_to_answer\n",
    "              FROM `bigquery-public-data.stackoverflow.posts_questions` AS q\n",
    "                  INNER JOIN `bigquery-public-data.stackoverflow.posts_answers` AS a\n",
    "              ON q.id = a.parent_id\n",
    "              WHERE q.creation_date >= '2018-01-01' and q.creation_date < '2018-02-01'\n",
    "              GROUP BY q_id\n",
    "              ORDER BY time_to_answer\n",
    "              \"\"\"\n",
    "\n",
    "first_result = client.query(first_query).result().to_dataframe()\n",
    "print(\"Percentage of answered questions: %s%%\" % \\\n",
    "      (sum(first_result[\"time_to_answer\"].notnull()) / len(first_result) * 100))\n",
    "print(\"Number of questions:\", len(first_result))\n",
    "first_result.head()"
   ]
  },
  {
   "cell_type": "markdown",
   "id": "fbb140b7",
   "metadata": {
    "papermill": {
     "duration": 0.018878,
     "end_time": "2022-03-08T13:23:26.081605",
     "exception": false,
     "start_time": "2022-03-08T13:23:26.062727",
     "status": "completed"
    },
    "tags": []
   },
   "source": [
    "You're surprised at the results and strongly suspect that something is wrong with your query.  In particular,\n",
    "- According to the query, 100% of the questions from January 2018 received an answer.  But, you know that ~80% of the questions on the site usually receive an answer.\n",
    "- The total number of questions is surprisingly low.  You expected to see at least 150,000 questions represented in the table.\n",
    "\n",
    "Given these observations, you think that the type of **JOIN** you have chosen has inadvertently excluded unanswered questions.  Using the code cell below, can you figure out what type of **JOIN** to use to fix the problem so that the table includes unanswered questions?\n",
    "\n",
    "**Note**: You need only amend the type of **JOIN** (i.e., **INNER**, **LEFT**, **RIGHT**, or **FULL**) to answer the question successfully."
   ]
  },
  {
   "cell_type": "code",
   "execution_count": 5,
   "id": "e5c91888",
   "metadata": {
    "execution": {
     "iopub.execute_input": "2022-03-08T13:23:26.126503Z",
     "iopub.status.busy": "2022-03-08T13:23:26.125822Z",
     "iopub.status.idle": "2022-03-08T13:23:36.935520Z",
     "shell.execute_reply": "2022-03-08T13:23:36.936455Z",
     "shell.execute_reply.started": "2022-03-08T13:11:08.658569Z"
    },
    "papermill": {
     "duration": 10.834378,
     "end_time": "2022-03-08T13:23:36.936672",
     "exception": false,
     "start_time": "2022-03-08T13:23:26.102294",
     "status": "completed"
    },
    "tags": []
   },
   "outputs": [
    {
     "name": "stderr",
     "output_type": "stream",
     "text": [
      "/opt/conda/lib/python3.7/site-packages/google/cloud/bigquery/client.py:440: UserWarning: Cannot create BigQuery Storage client, the dependency google-cloud-bigquery-storage is not installed.\n",
      "  \"Cannot create BigQuery Storage client, the dependency \"\n"
     ]
    },
    {
     "data": {
      "text/html": [
       "<div>\n",
       "<style scoped>\n",
       "    .dataframe tbody tr th:only-of-type {\n",
       "        vertical-align: middle;\n",
       "    }\n",
       "\n",
       "    .dataframe tbody tr th {\n",
       "        vertical-align: top;\n",
       "    }\n",
       "\n",
       "    .dataframe thead th {\n",
       "        text-align: right;\n",
       "    }\n",
       "</style>\n",
       "<table border=\"1\" class=\"dataframe\">\n",
       "  <thead>\n",
       "    <tr style=\"text-align: right;\">\n",
       "      <th></th>\n",
       "      <th>q_id</th>\n",
       "      <th>time_to_answer</th>\n",
       "    </tr>\n",
       "  </thead>\n",
       "  <tbody>\n",
       "    <tr>\n",
       "      <th>0</th>\n",
       "      <td>48485724</td>\n",
       "      <td>NaN</td>\n",
       "    </tr>\n",
       "    <tr>\n",
       "      <th>1</th>\n",
       "      <td>48361467</td>\n",
       "      <td>NaN</td>\n",
       "    </tr>\n",
       "    <tr>\n",
       "      <th>2</th>\n",
       "      <td>48364434</td>\n",
       "      <td>NaN</td>\n",
       "    </tr>\n",
       "    <tr>\n",
       "      <th>3</th>\n",
       "      <td>48386110</td>\n",
       "      <td>NaN</td>\n",
       "    </tr>\n",
       "    <tr>\n",
       "      <th>4</th>\n",
       "      <td>48526168</td>\n",
       "      <td>NaN</td>\n",
       "    </tr>\n",
       "  </tbody>\n",
       "</table>\n",
       "</div>"
      ],
      "text/plain": [
       "       q_id  time_to_answer\n",
       "0  48485724             NaN\n",
       "1  48361467             NaN\n",
       "2  48364434             NaN\n",
       "3  48386110             NaN\n",
       "4  48526168             NaN"
      ]
     },
     "metadata": {},
     "output_type": "display_data"
    },
    {
     "data": {
      "application/javascript": [
       "parent.postMessage({\"jupyterEvent\": \"custom.exercise_interaction\", \"data\": {\"outcomeType\": 1, \"valueTowardsCompletion\": 0.25, \"interactionType\": 1, \"questionType\": 2, \"questionId\": \"1_CorrectQuery\", \"learnToolsVersion\": \"0.3.4\", \"failureMessage\": \"\", \"exceptionClass\": \"\", \"trace\": \"\"}}, \"*\")"
      ],
      "text/plain": [
       "<IPython.core.display.Javascript object>"
      ]
     },
     "metadata": {},
     "output_type": "display_data"
    },
    {
     "data": {
      "text/markdown": [
       "<span style=\"color:#33cc33\">Correct</span>"
      ],
      "text/plain": [
       "Correct"
      ]
     },
     "metadata": {},
     "output_type": "display_data"
    },
    {
     "name": "stderr",
     "output_type": "stream",
     "text": [
      "/opt/conda/lib/python3.7/site-packages/google/cloud/bigquery/client.py:440: UserWarning: Cannot create BigQuery Storage client, the dependency google-cloud-bigquery-storage is not installed.\n",
      "  \"Cannot create BigQuery Storage client, the dependency \"\n"
     ]
    },
    {
     "name": "stdout",
     "output_type": "stream",
     "text": [
      "Percentage of answered questions: 83.20053366934737%\n",
      "Number of questions: 161898\n"
     ]
    }
   ],
   "source": [
    "# Your code here\n",
    "correct_query = \"\"\"\n",
    "                SELECT q.id AS q_id,\n",
    "                   MIN(TIMESTAMP_DIFF(a.creation_date, q.creation_date, SECOND)) as time_to_answer\n",
    "               FROM `bigquery-public-data.stackoverflow.posts_questions` AS q\n",
    "                   LEFT JOIN `bigquery-public-data.stackoverflow.posts_answers` AS a\n",
    "               ON q.id = a.parent_id\n",
    "               WHERE q.creation_date >= '2018-01-01' and q.creation_date < '2018-02-01'\n",
    "               GROUP BY q_id\n",
    "               ORDER BY time_to_answer\n",
    "                \"\"\"\n",
    "\n",
    "# Check your answer\n",
    "q_1.check()\n",
    "\n",
    "# Run the query, and return a pandas DataFrame\n",
    "correct_result = client.query(correct_query).result().to_dataframe()\n",
    "print(\"Percentage of answered questions: %s%%\" % \\\n",
    "      (sum(correct_result[\"time_to_answer\"].notnull()) / len(correct_result) * 100))\n",
    "print(\"Number of questions:\", len(correct_result))"
   ]
  },
  {
   "cell_type": "code",
   "execution_count": 6,
   "id": "c3fbc335",
   "metadata": {
    "execution": {
     "iopub.execute_input": "2022-03-08T13:23:36.991651Z",
     "iopub.status.busy": "2022-03-08T13:23:36.990402Z",
     "iopub.status.idle": "2022-03-08T13:23:36.994686Z",
     "shell.execute_reply": "2022-03-08T13:23:36.995152Z",
     "shell.execute_reply.started": "2022-03-08T13:11:23.389761Z"
    },
    "papermill": {
     "duration": 0.035755,
     "end_time": "2022-03-08T13:23:36.995352",
     "exception": false,
     "start_time": "2022-03-08T13:23:36.959597",
     "status": "completed"
    },
    "tags": []
   },
   "outputs": [],
   "source": [
    "# Lines below will give you a hint or solution code\n",
    "#q_1.hint()\n",
    "#q_1.solution()"
   ]
  },
  {
   "cell_type": "markdown",
   "id": "e1678356",
   "metadata": {
    "papermill": {
     "duration": 0.023956,
     "end_time": "2022-03-08T13:23:37.043679",
     "exception": false,
     "start_time": "2022-03-08T13:23:37.019723",
     "status": "completed"
    },
    "tags": []
   },
   "source": [
    "### 2) Initial questions and answers, Part 1\n",
    "\n",
    "You're interested in understanding the initial experiences that users typically have with the Stack Overflow website.  Is it more common for users to first ask questions or provide answers?  After signing up, how long does it take for users to first interact with the website?  To explore this further, you draft the (partial) query in the code cell below.\n",
    "\n",
    "The query returns a table with three columns:\n",
    "- `owner_user_id` - the user ID\n",
    "- `q_creation_date` - the first time the user asked a question \n",
    "- `a_creation_date` - the first time the user contributed an answer \n",
    "\n",
    "You want to keep track of users who have asked questions, but have yet to provide answers.  And, your table should also include users who have answered questions, but have yet to pose their own questions.  \n",
    "\n",
    "With this in mind, please fill in the appropriate **JOIN** (i.e., **INNER**, **LEFT**, **RIGHT**, or **FULL**) to return the correct information.  \n",
    "\n",
    "**Note**: You need only fill in the appropriate **JOIN**.  All other parts of the query should be left as-is.  (You also don't need to write any additional code to run the query, since the `check()` method will take care of this for you.)\n",
    "\n",
    "To avoid returning too much data, we'll restrict our attention to questions and answers posed in January 2019.  We'll amend the timeframe in Part 2 of this question to be more realistic!"
   ]
  },
  {
   "cell_type": "code",
   "execution_count": 7,
   "id": "aeafd922",
   "metadata": {
    "execution": {
     "iopub.execute_input": "2022-03-08T13:23:37.094759Z",
     "iopub.status.busy": "2022-03-08T13:23:37.093873Z",
     "iopub.status.idle": "2022-03-08T13:23:39.902847Z",
     "shell.execute_reply": "2022-03-08T13:23:39.902317Z",
     "shell.execute_reply.started": "2022-03-08T13:11:23.396264Z"
    },
    "papermill": {
     "duration": 2.83503,
     "end_time": "2022-03-08T13:23:39.902984",
     "exception": false,
     "start_time": "2022-03-08T13:23:37.067954",
     "status": "completed"
    },
    "tags": []
   },
   "outputs": [
    {
     "data": {
      "text/html": [
       "<div>\n",
       "<style scoped>\n",
       "    .dataframe tbody tr th:only-of-type {\n",
       "        vertical-align: middle;\n",
       "    }\n",
       "\n",
       "    .dataframe tbody tr th {\n",
       "        vertical-align: top;\n",
       "    }\n",
       "\n",
       "    .dataframe thead th {\n",
       "        text-align: right;\n",
       "    }\n",
       "</style>\n",
       "<table border=\"1\" class=\"dataframe\">\n",
       "  <thead>\n",
       "    <tr style=\"text-align: right;\">\n",
       "      <th></th>\n",
       "      <th>owner_user_id</th>\n",
       "      <th>q_creation_date</th>\n",
       "      <th>a_creation_date</th>\n",
       "    </tr>\n",
       "  </thead>\n",
       "  <tbody>\n",
       "    <tr>\n",
       "      <th>0</th>\n",
       "      <td>4407321</td>\n",
       "      <td>2019-01-05 21:01:42.830000+00:00</td>\n",
       "      <td>2019-01-17 00:43:20.047000+00:00</td>\n",
       "    </tr>\n",
       "    <tr>\n",
       "      <th>1</th>\n",
       "      <td>285336</td>\n",
       "      <td>2019-01-05 17:18:58.407000+00:00</td>\n",
       "      <td>2019-01-13 00:54:01.763000+00:00</td>\n",
       "    </tr>\n",
       "    <tr>\n",
       "      <th>2</th>\n",
       "      <td>2564847</td>\n",
       "      <td>2019-01-06 19:47:29.210000+00:00</td>\n",
       "      <td>2019-01-17 10:48:44.477000+00:00</td>\n",
       "    </tr>\n",
       "    <tr>\n",
       "      <th>3</th>\n",
       "      <td>3967039</td>\n",
       "      <td>2019-01-18 13:51:40.297000+00:00</td>\n",
       "      <td>2019-01-18 14:06:34.747000+00:00</td>\n",
       "    </tr>\n",
       "    <tr>\n",
       "      <th>4</th>\n",
       "      <td>7068790</td>\n",
       "      <td>2019-01-13 08:19:41.410000+00:00</td>\n",
       "      <td>2019-01-19 15:26:43.407000+00:00</td>\n",
       "    </tr>\n",
       "  </tbody>\n",
       "</table>\n",
       "</div>"
      ],
      "text/plain": [
       "   owner_user_id                  q_creation_date  \\\n",
       "0        4407321 2019-01-05 21:01:42.830000+00:00   \n",
       "1         285336 2019-01-05 17:18:58.407000+00:00   \n",
       "2        2564847 2019-01-06 19:47:29.210000+00:00   \n",
       "3        3967039 2019-01-18 13:51:40.297000+00:00   \n",
       "4        7068790 2019-01-13 08:19:41.410000+00:00   \n",
       "\n",
       "                   a_creation_date  \n",
       "0 2019-01-17 00:43:20.047000+00:00  \n",
       "1 2019-01-13 00:54:01.763000+00:00  \n",
       "2 2019-01-17 10:48:44.477000+00:00  \n",
       "3 2019-01-18 14:06:34.747000+00:00  \n",
       "4 2019-01-19 15:26:43.407000+00:00  "
      ]
     },
     "metadata": {},
     "output_type": "display_data"
    },
    {
     "data": {
      "application/javascript": [
       "parent.postMessage({\"jupyterEvent\": \"custom.exercise_interaction\", \"data\": {\"outcomeType\": 1, \"valueTowardsCompletion\": 0.25, \"interactionType\": 1, \"questionType\": 2, \"questionId\": \"2_QA_One\", \"learnToolsVersion\": \"0.3.4\", \"failureMessage\": \"\", \"exceptionClass\": \"\", \"trace\": \"\"}}, \"*\")"
      ],
      "text/plain": [
       "<IPython.core.display.Javascript object>"
      ]
     },
     "metadata": {},
     "output_type": "display_data"
    },
    {
     "data": {
      "text/markdown": [
       "<span style=\"color:#33cc33\">Correct</span>"
      ],
      "text/plain": [
       "Correct"
      ]
     },
     "metadata": {},
     "output_type": "display_data"
    }
   ],
   "source": [
    "# Your code here\n",
    "q_and_a_query = \"\"\"\n",
    "                SELECT q.owner_user_id AS owner_user_id,\n",
    "                    MIN(q.creation_date) AS q_creation_date,\n",
    "                    MIN(a.creation_date) AS a_creation_date\n",
    "                FROM `bigquery-public-data.stackoverflow.posts_questions` AS q\n",
    "                    FULL JOIN `bigquery-public-data.stackoverflow.posts_answers` AS a\n",
    "                ON q.owner_user_id = a.owner_user_id \n",
    "                WHERE q.creation_date >= '2019-01-01' AND q.creation_date < '2019-02-01' \n",
    "                    AND a.creation_date >= '2019-01-01' AND a.creation_date < '2019-02-01'\n",
    "                GROUP BY owner_user_id\n",
    "                \"\"\"\n",
    "\n",
    "# Check your answer\n",
    "q_2.check()"
   ]
  },
  {
   "cell_type": "code",
   "execution_count": 8,
   "id": "325a16a0",
   "metadata": {
    "execution": {
     "iopub.execute_input": "2022-03-08T13:23:39.956233Z",
     "iopub.status.busy": "2022-03-08T13:23:39.955469Z",
     "iopub.status.idle": "2022-03-08T13:23:39.957979Z",
     "shell.execute_reply": "2022-03-08T13:23:39.958420Z",
     "shell.execute_reply.started": "2022-03-08T13:11:26.354302Z"
    },
    "papermill": {
     "duration": 0.031127,
     "end_time": "2022-03-08T13:23:39.958601",
     "exception": false,
     "start_time": "2022-03-08T13:23:39.927474",
     "status": "completed"
    },
    "tags": []
   },
   "outputs": [],
   "source": [
    "# Lines below will give you a hint or solution code\n",
    "#q_2.hint()\n",
    "#q_2.solution()"
   ]
  },
  {
   "cell_type": "markdown",
   "id": "a5f5056d",
   "metadata": {
    "papermill": {
     "duration": 0.023778,
     "end_time": "2022-03-08T13:23:40.006061",
     "exception": false,
     "start_time": "2022-03-08T13:23:39.982283",
     "status": "completed"
    },
    "tags": []
   },
   "source": [
    "### 3) Initial questions and answers, Part 2\n",
    "\n",
    "Now you'll address a more realistic (and complex!) scenario.  To answer this question, you'll need to pull information from *three* different tables!  This syntax very similar to the case when we have to join only two tables.  For instance, consider the three tables below.\n",
    "\n",
    "![three tables](https://i.imgur.com/OyhYtD1.png)\n",
    "\n",
    "We can use two different **JOINs** to link together information from all three tables, in a single query.\n",
    "\n",
    "![double join](https://i.imgur.com/G6buS7P.png)\n",
    "\n",
    "With this in mind, say you're interested in understanding users who joined the site in January 2019.  You want to track their activity on the site: when did they post their first questions and answers, if ever?\n",
    "\n",
    "Write a query that returns the following columns:\n",
    "- `id` - the IDs of all users who created Stack Overflow accounts in January 2019 (January 1, 2019, to January 31, 2019, inclusive)\n",
    "- `q_creation_date` - the first time the user posted a question on the site; if the user has never posted a question, the value should be null\n",
    "- `a_creation_date` - the first time the user posted a question on the site; if the user has never posted a question, the value should be null\n",
    "\n",
    "Note that questions and answers posted after January 31, 2019, should still be included in the results.  And, all users who joined the site in January 2019 should be included (even if they have never posted a question or provided an answer).\n",
    "\n",
    "The query from the previous question should be a nice starting point to answering this question!  You'll need to use the `posts_answers` and `posts_questions` tables.  You'll also need to use the `users` table from the Stack Overflow dataset.  The relevant columns from the `users` table are `id` (the ID of each user) and `creation_date` (when the user joined the Stack Overflow site, in DATETIME format)."
   ]
  },
  {
   "cell_type": "code",
   "execution_count": 9,
   "id": "cace4a96",
   "metadata": {
    "execution": {
     "iopub.execute_input": "2022-03-08T13:23:40.060849Z",
     "iopub.status.busy": "2022-03-08T13:23:40.059858Z",
     "iopub.status.idle": "2022-03-08T13:23:45.698702Z",
     "shell.execute_reply": "2022-03-08T13:23:45.699091Z",
     "shell.execute_reply.started": "2022-03-08T13:13:49.891793Z"
    },
    "papermill": {
     "duration": 5.66833,
     "end_time": "2022-03-08T13:23:45.699269",
     "exception": false,
     "start_time": "2022-03-08T13:23:40.030939",
     "status": "completed"
    },
    "tags": []
   },
   "outputs": [
    {
     "name": "stderr",
     "output_type": "stream",
     "text": [
      "/opt/conda/lib/python3.7/site-packages/google/cloud/bigquery/client.py:440: UserWarning: Cannot create BigQuery Storage client, the dependency google-cloud-bigquery-storage is not installed.\n",
      "  \"Cannot create BigQuery Storage client, the dependency \"\n"
     ]
    },
    {
     "data": {
      "text/html": [
       "<div>\n",
       "<style scoped>\n",
       "    .dataframe tbody tr th:only-of-type {\n",
       "        vertical-align: middle;\n",
       "    }\n",
       "\n",
       "    .dataframe tbody tr th {\n",
       "        vertical-align: top;\n",
       "    }\n",
       "\n",
       "    .dataframe thead th {\n",
       "        text-align: right;\n",
       "    }\n",
       "</style>\n",
       "<table border=\"1\" class=\"dataframe\">\n",
       "  <thead>\n",
       "    <tr style=\"text-align: right;\">\n",
       "      <th></th>\n",
       "      <th>id</th>\n",
       "      <th>q_creation_date</th>\n",
       "      <th>a_creation_date</th>\n",
       "    </tr>\n",
       "  </thead>\n",
       "  <tbody>\n",
       "    <tr>\n",
       "      <th>0</th>\n",
       "      <td>10884430</td>\n",
       "      <td>NaT</td>\n",
       "      <td>NaT</td>\n",
       "    </tr>\n",
       "    <tr>\n",
       "      <th>1</th>\n",
       "      <td>10998084</td>\n",
       "      <td>2019-01-31 21:22:55.183000+00:00</td>\n",
       "      <td>NaT</td>\n",
       "    </tr>\n",
       "    <tr>\n",
       "      <th>2</th>\n",
       "      <td>10887257</td>\n",
       "      <td>NaT</td>\n",
       "      <td>NaT</td>\n",
       "    </tr>\n",
       "    <tr>\n",
       "      <th>3</th>\n",
       "      <td>10922139</td>\n",
       "      <td>NaT</td>\n",
       "      <td>NaT</td>\n",
       "    </tr>\n",
       "    <tr>\n",
       "      <th>4</th>\n",
       "      <td>10939092</td>\n",
       "      <td>NaT</td>\n",
       "      <td>NaT</td>\n",
       "    </tr>\n",
       "  </tbody>\n",
       "</table>\n",
       "</div>"
      ],
      "text/plain": [
       "         id                  q_creation_date a_creation_date\n",
       "0  10884430                              NaT             NaT\n",
       "1  10998084 2019-01-31 21:22:55.183000+00:00             NaT\n",
       "2  10887257                              NaT             NaT\n",
       "3  10922139                              NaT             NaT\n",
       "4  10939092                              NaT             NaT"
      ]
     },
     "metadata": {},
     "output_type": "display_data"
    },
    {
     "data": {
      "application/javascript": [
       "parent.postMessage({\"jupyterEvent\": \"custom.exercise_interaction\", \"data\": {\"outcomeType\": 1, \"valueTowardsCompletion\": 0.25, \"interactionType\": 1, \"questionType\": 2, \"questionId\": \"3_QA_Two\", \"learnToolsVersion\": \"0.3.4\", \"failureMessage\": \"\", \"exceptionClass\": \"\", \"trace\": \"\"}}, \"*\")"
      ],
      "text/plain": [
       "<IPython.core.display.Javascript object>"
      ]
     },
     "metadata": {},
     "output_type": "display_data"
    },
    {
     "data": {
      "text/markdown": [
       "<span style=\"color:#33cc33\">Correct</span>"
      ],
      "text/plain": [
       "Correct"
      ]
     },
     "metadata": {},
     "output_type": "display_data"
    }
   ],
   "source": [
    "# Your code here\n",
    "three_tables_query = \"\"\"\n",
    "                     SELECT u.id AS id, MIN(q.creation_date) AS q_creation_date, MIN(a.creation_date) AS a_creation_date\n",
    "                     FROM `bigquery-public-data.stackoverflow.users` AS u\n",
    "                     LEFT JOIN `bigquery-public-data.stackoverflow.posts_questions` AS q\n",
    "                         ON u.id = q.owner_user_id\n",
    "                     LEFT JOIN `bigquery-public-data.stackoverflow.posts_answers` AS a\n",
    "                         ON u.id = a.owner_user_id\n",
    "                     WHERE u.creation_date >= '2019-01-01' AND u.creation_date < '2019-02-01'\n",
    "                     GROUP BY id\n",
    "                     \"\"\"\n",
    "\n",
    "# Check your answer\n",
    "q_3.check()"
   ]
  },
  {
   "cell_type": "code",
   "execution_count": 10,
   "id": "70cf6582",
   "metadata": {
    "execution": {
     "iopub.execute_input": "2022-03-08T13:23:45.752973Z",
     "iopub.status.busy": "2022-03-08T13:23:45.752111Z",
     "iopub.status.idle": "2022-03-08T13:23:45.755286Z",
     "shell.execute_reply": "2022-03-08T13:23:45.755709Z",
     "shell.execute_reply.started": "2022-03-08T13:14:07.976044Z"
    },
    "papermill": {
     "duration": 0.030511,
     "end_time": "2022-03-08T13:23:45.755882",
     "exception": false,
     "start_time": "2022-03-08T13:23:45.725371",
     "status": "completed"
    },
    "tags": []
   },
   "outputs": [],
   "source": [
    "# Lines below will give you a hint or solution code\n",
    "#q_3.hint()\n",
    "#q_3.solution()"
   ]
  },
  {
   "cell_type": "markdown",
   "id": "2d8675db",
   "metadata": {
    "papermill": {
     "duration": 0.024643,
     "end_time": "2022-03-08T13:23:45.806370",
     "exception": false,
     "start_time": "2022-03-08T13:23:45.781727",
     "status": "completed"
    },
    "tags": []
   },
   "source": [
    "### 4) How many distinct users posted on January 1, 2019?\n",
    "\n",
    "In the code cell below, write a query that returns a table with a single column:\n",
    "- `owner_user_id` - the IDs of all users who posted at least one question or answer on January 1, 2019.  Each user ID should appear at most once.\n",
    "\n",
    "In the `posts_questions` (and `posts_answers`) tables, you can get the ID of the original poster from the `owner_user_id` column.  Likewise, the date of the original posting can be found in the `creation_date` column.  \n",
    "\n",
    "In order for your answer to be marked correct, your query must use a **UNION**."
   ]
  },
  {
   "cell_type": "code",
   "execution_count": 11,
   "id": "4ea71541",
   "metadata": {
    "execution": {
     "iopub.execute_input": "2022-03-08T13:23:45.860481Z",
     "iopub.status.busy": "2022-03-08T13:23:45.859543Z",
     "iopub.status.idle": "2022-03-08T13:23:46.836301Z",
     "shell.execute_reply": "2022-03-08T13:23:46.835189Z",
     "shell.execute_reply.started": "2022-03-08T13:22:12.721651Z"
    },
    "papermill": {
     "duration": 1.004913,
     "end_time": "2022-03-08T13:23:46.836674",
     "exception": false,
     "start_time": "2022-03-08T13:23:45.831761",
     "status": "completed"
    },
    "tags": []
   },
   "outputs": [
    {
     "name": "stderr",
     "output_type": "stream",
     "text": [
      "/opt/conda/lib/python3.7/site-packages/google/cloud/bigquery/client.py:440: UserWarning: Cannot create BigQuery Storage client, the dependency google-cloud-bigquery-storage is not installed.\n",
      "  \"Cannot create BigQuery Storage client, the dependency \"\n"
     ]
    },
    {
     "data": {
      "text/html": [
       "<div>\n",
       "<style scoped>\n",
       "    .dataframe tbody tr th:only-of-type {\n",
       "        vertical-align: middle;\n",
       "    }\n",
       "\n",
       "    .dataframe tbody tr th {\n",
       "        vertical-align: top;\n",
       "    }\n",
       "\n",
       "    .dataframe thead th {\n",
       "        text-align: right;\n",
       "    }\n",
       "</style>\n",
       "<table border=\"1\" class=\"dataframe\">\n",
       "  <thead>\n",
       "    <tr style=\"text-align: right;\">\n",
       "      <th></th>\n",
       "      <th>owner_user_id</th>\n",
       "    </tr>\n",
       "  </thead>\n",
       "  <tbody>\n",
       "    <tr>\n",
       "      <th>0</th>\n",
       "      <td>3202399.0</td>\n",
       "    </tr>\n",
       "    <tr>\n",
       "      <th>1</th>\n",
       "      <td>211114.0</td>\n",
       "    </tr>\n",
       "    <tr>\n",
       "      <th>2</th>\n",
       "      <td>10542739.0</td>\n",
       "    </tr>\n",
       "    <tr>\n",
       "      <th>3</th>\n",
       "      <td>9661706.0</td>\n",
       "    </tr>\n",
       "    <tr>\n",
       "      <th>4</th>\n",
       "      <td>31045.0</td>\n",
       "    </tr>\n",
       "  </tbody>\n",
       "</table>\n",
       "</div>"
      ],
      "text/plain": [
       "   owner_user_id\n",
       "0      3202399.0\n",
       "1       211114.0\n",
       "2     10542739.0\n",
       "3      9661706.0\n",
       "4        31045.0"
      ]
     },
     "metadata": {},
     "output_type": "display_data"
    },
    {
     "data": {
      "application/javascript": [
       "parent.postMessage({\"jupyterEvent\": \"custom.exercise_interaction\", \"data\": {\"outcomeType\": 1, \"valueTowardsCompletion\": 0.25, \"interactionType\": 1, \"questionType\": 2, \"questionId\": \"4_AllUsers\", \"learnToolsVersion\": \"0.3.4\", \"failureMessage\": \"\", \"exceptionClass\": \"\", \"trace\": \"\"}}, \"*\")"
      ],
      "text/plain": [
       "<IPython.core.display.Javascript object>"
      ]
     },
     "metadata": {},
     "output_type": "display_data"
    },
    {
     "data": {
      "text/markdown": [
       "<span style=\"color:#33cc33\">Correct</span>"
      ],
      "text/plain": [
       "Correct"
      ]
     },
     "metadata": {},
     "output_type": "display_data"
    }
   ],
   "source": [
    "# Your code here\n",
    "all_users_query = \"\"\"\n",
    "                  SELECT q.owner_user_id\n",
    "                  FROM `bigquery-public-data.stackoverflow.posts_questions` AS q\n",
    "                  WHERE EXTRACT(DATE FROM q.creation_date) = '2019-01-01'\n",
    "                  UNION DISTINCT\n",
    "                  SELECT a.owner_user_id\n",
    "                  FROM `bigquery-public-data.stackoverflow.posts_answers` AS a\n",
    "                  WHERE EXTRACT(DATE FROM a.creation_date) = '2019-01-01'\n",
    "                  \"\"\"\n",
    "\n",
    "# Check your answer\n",
    "q_4.check()"
   ]
  },
  {
   "cell_type": "code",
   "execution_count": 12,
   "id": "dc03d869",
   "metadata": {
    "execution": {
     "iopub.execute_input": "2022-03-08T13:23:46.899071Z",
     "iopub.status.busy": "2022-03-08T13:23:46.898404Z",
     "iopub.status.idle": "2022-03-08T13:23:46.901291Z",
     "shell.execute_reply": "2022-03-08T13:23:46.901725Z",
     "shell.execute_reply.started": "2022-03-08T13:22:24.220968Z"
    },
    "papermill": {
     "duration": 0.035936,
     "end_time": "2022-03-08T13:23:46.901897",
     "exception": false,
     "start_time": "2022-03-08T13:23:46.865961",
     "status": "completed"
    },
    "tags": []
   },
   "outputs": [],
   "source": [
    "# Lines below will give you a hint or solution code\n",
    "#q_4.hint()\n",
    "#q_4.solution()"
   ]
  },
  {
   "cell_type": "markdown",
   "id": "3030bba3",
   "metadata": {
    "papermill": {
     "duration": 0.029113,
     "end_time": "2022-03-08T13:23:46.957689",
     "exception": false,
     "start_time": "2022-03-08T13:23:46.928576",
     "status": "completed"
    },
    "tags": []
   },
   "source": [
    "# Keep going\n",
    "\n",
    "Learn how to use **[analytic functions](https://www.kaggle.com/alexisbcook/analytic-functions)** to perform complex calculations with minimal SQL code."
   ]
  },
  {
   "cell_type": "markdown",
   "id": "7c9960ee",
   "metadata": {
    "papermill": {
     "duration": 0.030145,
     "end_time": "2022-03-08T13:23:47.014538",
     "exception": false,
     "start_time": "2022-03-08T13:23:46.984393",
     "status": "completed"
    },
    "tags": []
   },
   "source": [
    "---\n",
    "\n",
    "\n",
    "\n",
    "\n",
    "*Have questions or comments? Visit the [course discussion forum](https://www.kaggle.com/learn/advanced-sql/discussion) to chat with other learners.*"
   ]
  }
 ],
 "metadata": {
  "kernelspec": {
   "display_name": "Python 3",
   "language": "python",
   "name": "python3"
  },
  "language_info": {
   "codemirror_mode": {
    "name": "ipython",
    "version": 3
   },
   "file_extension": ".py",
   "mimetype": "text/x-python",
   "name": "python",
   "nbconvert_exporter": "python",
   "pygments_lexer": "ipython3",
   "version": "3.7.12"
  },
  "papermill": {
   "default_parameters": {},
   "duration": 53.611781,
   "end_time": "2022-03-08T13:23:47.652883",
   "environment_variables": {},
   "exception": null,
   "input_path": "__notebook__.ipynb",
   "output_path": "__notebook__.ipynb",
   "parameters": {},
   "start_time": "2022-03-08T13:22:54.041102",
   "version": "2.3.3"
  }
 },
 "nbformat": 4,
 "nbformat_minor": 5
}
