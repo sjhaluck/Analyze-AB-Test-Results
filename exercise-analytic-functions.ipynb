{
 "cells": [
  {
   "cell_type": "markdown",
   "id": "c3e35d2e",
   "metadata": {
    "papermill": {
     "duration": 0.016452,
     "end_time": "2022-03-12T21:02:25.806167",
     "exception": false,
     "start_time": "2022-03-12T21:02:25.789715",
     "status": "completed"
    },
    "tags": []
   },
   "source": [
    "**This notebook is an exercise in the [Advanced SQL](https://www.kaggle.com/learn/advanced-sql) course.  You can reference the tutorial at [this link](https://www.kaggle.com/alexisbcook/analytic-functions).**\n",
    "\n",
    "---\n"
   ]
  },
  {
   "cell_type": "markdown",
   "id": "15073ee0",
   "metadata": {
    "papermill": {
     "duration": 0.016589,
     "end_time": "2022-03-12T21:02:25.839361",
     "exception": false,
     "start_time": "2022-03-12T21:02:25.822772",
     "status": "completed"
    },
    "tags": []
   },
   "source": [
    "# Introduction\n",
    "\n",
    "Here, you'll use window functions to answer questions about the [Chicago Taxi Trips](https://www.kaggle.com/chicago/chicago-taxi-trips-bq) dataset.\n",
    "\n",
    "Before you get started, run the code cell below to set everything up."
   ]
  },
  {
   "cell_type": "code",
   "execution_count": 1,
   "id": "59b6b0f9",
   "metadata": {
    "execution": {
     "iopub.execute_input": "2022-03-12T21:02:25.876445Z",
     "iopub.status.busy": "2022-03-12T21:02:25.875296Z",
     "iopub.status.idle": "2022-03-12T21:02:43.982857Z",
     "shell.execute_reply": "2022-03-12T21:02:43.982216Z",
     "shell.execute_reply.started": "2022-03-12T20:53:18.155098Z"
    },
    "papermill": {
     "duration": 18.126908,
     "end_time": "2022-03-12T21:02:43.983051",
     "exception": false,
     "start_time": "2022-03-12T21:02:25.856143",
     "status": "completed"
    },
    "tags": []
   },
   "outputs": [
    {
     "name": "stdout",
     "output_type": "stream",
     "text": [
      "Using Kaggle's public dataset BigQuery integration.\n"
     ]
    },
    {
     "name": "stderr",
     "output_type": "stream",
     "text": [
      "/opt/conda/lib/python3.7/site-packages/google/cloud/bigquery/client.py:440: UserWarning: Cannot create BigQuery Storage client, the dependency google-cloud-bigquery-storage is not installed.\n",
      "  \"Cannot create BigQuery Storage client, the dependency \"\n"
     ]
    },
    {
     "name": "stdout",
     "output_type": "stream",
     "text": [
      "Setup Complete\n"
     ]
    }
   ],
   "source": [
    "# Set up feedback system\n",
    "from learntools.core import binder\n",
    "binder.bind(globals())\n",
    "from learntools.sql_advanced.ex2 import *\n",
    "print(\"Setup Complete\")"
   ]
  },
  {
   "cell_type": "markdown",
   "id": "26164625",
   "metadata": {
    "papermill": {
     "duration": 0.016727,
     "end_time": "2022-03-12T21:02:44.017511",
     "exception": false,
     "start_time": "2022-03-12T21:02:44.000784",
     "status": "completed"
    },
    "tags": []
   },
   "source": [
    "The following code cell fetches the `taxi_trips` table from the `chicago_taxi_trips` dataset. We also preview the first five rows of the table.  You'll use the table to answer the questions below."
   ]
  },
  {
   "cell_type": "code",
   "execution_count": 2,
   "id": "c1e3b417",
   "metadata": {
    "execution": {
     "iopub.execute_input": "2022-03-12T21:02:44.059056Z",
     "iopub.status.busy": "2022-03-12T21:02:44.058336Z",
     "iopub.status.idle": "2022-03-12T21:02:45.629781Z",
     "shell.execute_reply": "2022-03-12T21:02:45.630304Z",
     "shell.execute_reply.started": "2022-03-12T20:53:35.563013Z"
    },
    "papermill": {
     "duration": 1.596031,
     "end_time": "2022-03-12T21:02:45.630462",
     "exception": false,
     "start_time": "2022-03-12T21:02:44.034431",
     "status": "completed"
    },
    "tags": []
   },
   "outputs": [
    {
     "name": "stdout",
     "output_type": "stream",
     "text": [
      "Using Kaggle's public dataset BigQuery integration.\n"
     ]
    },
    {
     "name": "stderr",
     "output_type": "stream",
     "text": [
      "/opt/conda/lib/python3.7/site-packages/ipykernel_launcher.py:19: UserWarning: Cannot use bqstorage_client if max_results is set, reverting to fetching data with the tabledata.list endpoint.\n"
     ]
    },
    {
     "data": {
      "text/html": [
       "<div>\n",
       "<style scoped>\n",
       "    .dataframe tbody tr th:only-of-type {\n",
       "        vertical-align: middle;\n",
       "    }\n",
       "\n",
       "    .dataframe tbody tr th {\n",
       "        vertical-align: top;\n",
       "    }\n",
       "\n",
       "    .dataframe thead th {\n",
       "        text-align: right;\n",
       "    }\n",
       "</style>\n",
       "<table border=\"1\" class=\"dataframe\">\n",
       "  <thead>\n",
       "    <tr style=\"text-align: right;\">\n",
       "      <th></th>\n",
       "      <th>unique_key</th>\n",
       "      <th>taxi_id</th>\n",
       "      <th>trip_start_timestamp</th>\n",
       "      <th>trip_end_timestamp</th>\n",
       "      <th>trip_seconds</th>\n",
       "      <th>trip_miles</th>\n",
       "      <th>pickup_census_tract</th>\n",
       "      <th>dropoff_census_tract</th>\n",
       "      <th>pickup_community_area</th>\n",
       "      <th>dropoff_community_area</th>\n",
       "      <th>...</th>\n",
       "      <th>extras</th>\n",
       "      <th>trip_total</th>\n",
       "      <th>payment_type</th>\n",
       "      <th>company</th>\n",
       "      <th>pickup_latitude</th>\n",
       "      <th>pickup_longitude</th>\n",
       "      <th>pickup_location</th>\n",
       "      <th>dropoff_latitude</th>\n",
       "      <th>dropoff_longitude</th>\n",
       "      <th>dropoff_location</th>\n",
       "    </tr>\n",
       "  </thead>\n",
       "  <tbody>\n",
       "    <tr>\n",
       "      <th>0</th>\n",
       "      <td>7f892ec7515bd913c549b6191d4f1210dab6bd48</td>\n",
       "      <td>51d13e9ec1a04be36d87a3746e0e4f8c68ca5ed59e6f7a...</td>\n",
       "      <td>2019-02-16 13:30:00+00:00</td>\n",
       "      <td>2019-02-16 14:15:00+00:00</td>\n",
       "      <td>2662</td>\n",
       "      <td>NaN</td>\n",
       "      <td>NaN</td>\n",
       "      <td>NaN</td>\n",
       "      <td>NaN</td>\n",
       "      <td>NaN</td>\n",
       "      <td>...</td>\n",
       "      <td>NaN</td>\n",
       "      <td>NaN</td>\n",
       "      <td>Credit Card</td>\n",
       "      <td>City Service</td>\n",
       "      <td>NaN</td>\n",
       "      <td>NaN</td>\n",
       "      <td>None</td>\n",
       "      <td>NaN</td>\n",
       "      <td>NaN</td>\n",
       "      <td>None</td>\n",
       "    </tr>\n",
       "    <tr>\n",
       "      <th>1</th>\n",
       "      <td>3343feb9ec86b7583eda014b283a73607a9bac0c</td>\n",
       "      <td>6b6ceb851bc1c33fcad40360a39cdd774c3269b1a13464...</td>\n",
       "      <td>2019-02-22 17:30:00+00:00</td>\n",
       "      <td>2019-02-22 17:30:00+00:00</td>\n",
       "      <td>13</td>\n",
       "      <td>0.0</td>\n",
       "      <td>NaN</td>\n",
       "      <td>NaN</td>\n",
       "      <td>NaN</td>\n",
       "      <td>NaN</td>\n",
       "      <td>...</td>\n",
       "      <td>NaN</td>\n",
       "      <td>NaN</td>\n",
       "      <td>Cash</td>\n",
       "      <td>Chicago Carriage Cab Corp</td>\n",
       "      <td>NaN</td>\n",
       "      <td>NaN</td>\n",
       "      <td>None</td>\n",
       "      <td>NaN</td>\n",
       "      <td>NaN</td>\n",
       "      <td>None</td>\n",
       "    </tr>\n",
       "    <tr>\n",
       "      <th>2</th>\n",
       "      <td>61057274be2441292e556305abfaa5c43eace54a</td>\n",
       "      <td>664a30bd4642ae849cb593c18f9bf5f3def292f714d1b2...</td>\n",
       "      <td>2019-03-01 16:30:00+00:00</td>\n",
       "      <td>2019-03-01 16:30:00+00:00</td>\n",
       "      <td>72</td>\n",
       "      <td>0.0</td>\n",
       "      <td>NaN</td>\n",
       "      <td>NaN</td>\n",
       "      <td>NaN</td>\n",
       "      <td>NaN</td>\n",
       "      <td>...</td>\n",
       "      <td>NaN</td>\n",
       "      <td>NaN</td>\n",
       "      <td>Credit Card</td>\n",
       "      <td>City Service</td>\n",
       "      <td>NaN</td>\n",
       "      <td>NaN</td>\n",
       "      <td>None</td>\n",
       "      <td>NaN</td>\n",
       "      <td>NaN</td>\n",
       "      <td>None</td>\n",
       "    </tr>\n",
       "    <tr>\n",
       "      <th>3</th>\n",
       "      <td>f2e00f30b9575fc6e1eb18dded32b7ee3add2f56</td>\n",
       "      <td>664a30bd4642ae849cb593c18f9bf5f3def292f714d1b2...</td>\n",
       "      <td>2019-03-01 16:45:00+00:00</td>\n",
       "      <td>2019-03-01 16:45:00+00:00</td>\n",
       "      <td>31</td>\n",
       "      <td>0.0</td>\n",
       "      <td>NaN</td>\n",
       "      <td>NaN</td>\n",
       "      <td>NaN</td>\n",
       "      <td>NaN</td>\n",
       "      <td>...</td>\n",
       "      <td>NaN</td>\n",
       "      <td>NaN</td>\n",
       "      <td>Cash</td>\n",
       "      <td>City Service</td>\n",
       "      <td>NaN</td>\n",
       "      <td>NaN</td>\n",
       "      <td>None</td>\n",
       "      <td>NaN</td>\n",
       "      <td>NaN</td>\n",
       "      <td>None</td>\n",
       "    </tr>\n",
       "    <tr>\n",
       "      <th>4</th>\n",
       "      <td>4f027f16e2fba80ddf7504b4b1a19c1dc0a6113c</td>\n",
       "      <td>664a30bd4642ae849cb593c18f9bf5f3def292f714d1b2...</td>\n",
       "      <td>2019-03-01 16:45:00+00:00</td>\n",
       "      <td>2019-03-01 16:45:00+00:00</td>\n",
       "      <td>137</td>\n",
       "      <td>0.0</td>\n",
       "      <td>NaN</td>\n",
       "      <td>NaN</td>\n",
       "      <td>NaN</td>\n",
       "      <td>NaN</td>\n",
       "      <td>...</td>\n",
       "      <td>NaN</td>\n",
       "      <td>NaN</td>\n",
       "      <td>Cash</td>\n",
       "      <td>City Service</td>\n",
       "      <td>NaN</td>\n",
       "      <td>NaN</td>\n",
       "      <td>None</td>\n",
       "      <td>NaN</td>\n",
       "      <td>NaN</td>\n",
       "      <td>None</td>\n",
       "    </tr>\n",
       "  </tbody>\n",
       "</table>\n",
       "<p>5 rows × 23 columns</p>\n",
       "</div>"
      ],
      "text/plain": [
       "                                 unique_key  \\\n",
       "0  7f892ec7515bd913c549b6191d4f1210dab6bd48   \n",
       "1  3343feb9ec86b7583eda014b283a73607a9bac0c   \n",
       "2  61057274be2441292e556305abfaa5c43eace54a   \n",
       "3  f2e00f30b9575fc6e1eb18dded32b7ee3add2f56   \n",
       "4  4f027f16e2fba80ddf7504b4b1a19c1dc0a6113c   \n",
       "\n",
       "                                             taxi_id  \\\n",
       "0  51d13e9ec1a04be36d87a3746e0e4f8c68ca5ed59e6f7a...   \n",
       "1  6b6ceb851bc1c33fcad40360a39cdd774c3269b1a13464...   \n",
       "2  664a30bd4642ae849cb593c18f9bf5f3def292f714d1b2...   \n",
       "3  664a30bd4642ae849cb593c18f9bf5f3def292f714d1b2...   \n",
       "4  664a30bd4642ae849cb593c18f9bf5f3def292f714d1b2...   \n",
       "\n",
       "       trip_start_timestamp        trip_end_timestamp  trip_seconds  \\\n",
       "0 2019-02-16 13:30:00+00:00 2019-02-16 14:15:00+00:00          2662   \n",
       "1 2019-02-22 17:30:00+00:00 2019-02-22 17:30:00+00:00            13   \n",
       "2 2019-03-01 16:30:00+00:00 2019-03-01 16:30:00+00:00            72   \n",
       "3 2019-03-01 16:45:00+00:00 2019-03-01 16:45:00+00:00            31   \n",
       "4 2019-03-01 16:45:00+00:00 2019-03-01 16:45:00+00:00           137   \n",
       "\n",
       "   trip_miles  pickup_census_tract  dropoff_census_tract  \\\n",
       "0         NaN                  NaN                   NaN   \n",
       "1         0.0                  NaN                   NaN   \n",
       "2         0.0                  NaN                   NaN   \n",
       "3         0.0                  NaN                   NaN   \n",
       "4         0.0                  NaN                   NaN   \n",
       "\n",
       "   pickup_community_area  dropoff_community_area  ...  extras  trip_total  \\\n",
       "0                    NaN                     NaN  ...     NaN         NaN   \n",
       "1                    NaN                     NaN  ...     NaN         NaN   \n",
       "2                    NaN                     NaN  ...     NaN         NaN   \n",
       "3                    NaN                     NaN  ...     NaN         NaN   \n",
       "4                    NaN                     NaN  ...     NaN         NaN   \n",
       "\n",
       "   payment_type                    company  pickup_latitude pickup_longitude  \\\n",
       "0   Credit Card               City Service              NaN              NaN   \n",
       "1          Cash  Chicago Carriage Cab Corp              NaN              NaN   \n",
       "2   Credit Card               City Service              NaN              NaN   \n",
       "3          Cash               City Service              NaN              NaN   \n",
       "4          Cash               City Service              NaN              NaN   \n",
       "\n",
       "  pickup_location  dropoff_latitude  dropoff_longitude dropoff_location  \n",
       "0            None               NaN                NaN             None  \n",
       "1            None               NaN                NaN             None  \n",
       "2            None               NaN                NaN             None  \n",
       "3            None               NaN                NaN             None  \n",
       "4            None               NaN                NaN             None  \n",
       "\n",
       "[5 rows x 23 columns]"
      ]
     },
     "execution_count": 2,
     "metadata": {},
     "output_type": "execute_result"
    }
   ],
   "source": [
    "from google.cloud import bigquery\n",
    "\n",
    "# Create a \"Client\" object\n",
    "client = bigquery.Client()\n",
    "\n",
    "# Construct a reference to the \"chicago_taxi_trips\" dataset\n",
    "dataset_ref = client.dataset(\"chicago_taxi_trips\", project=\"bigquery-public-data\")\n",
    "\n",
    "# API request - fetch the dataset\n",
    "dataset = client.get_dataset(dataset_ref)\n",
    "\n",
    "# Construct a reference to the \"taxi_trips\" table\n",
    "table_ref = dataset_ref.table(\"taxi_trips\")\n",
    "\n",
    "# API request - fetch the table\n",
    "table = client.get_table(table_ref)\n",
    "\n",
    "# Preview the first five lines of the table\n",
    "client.list_rows(table, max_results=5).to_dataframe()"
   ]
  },
  {
   "cell_type": "markdown",
   "id": "32d5788b",
   "metadata": {
    "papermill": {
     "duration": 0.018841,
     "end_time": "2022-03-12T21:02:45.668436",
     "exception": false,
     "start_time": "2022-03-12T21:02:45.649595",
     "status": "completed"
    },
    "tags": []
   },
   "source": [
    "# Exercises\n",
    "\n",
    "### 1) How can you predict the demand for taxis?\n",
    "\n",
    "Say you work for a taxi company, and you're interested in predicting the demand for taxis.  Towards this goal, you'd like to create a plot that shows a rolling average of the daily number of taxi trips.  Amend the (partial) query below to return a DataFrame with two columns:\n",
    "- `trip_date` - contains one entry for each date from January 1, 2016, to December 31, 2017.\n",
    "- `avg_num_trips` - shows the average number of daily trips, calculated over a window including the value for the current date, along with the values for the preceding 15 days and the following 15 days, as long as the days fit within the two-year time frame.  For instance, when calculating the value in this column for January 5, 2016, the window will include the number of trips for the preceding 4 days, the current date, and the following 15 days.\n",
    "\n",
    "This query is partially completed for you, and you need only write the part that calculates the `avg_num_trips` column.  Note that this query uses a common table expression (CTE); if you need to review how to use CTEs, you're encouraged to check out [this tutorial](https://www.kaggle.com/dansbecker/as-with) in the [Intro to SQL](https://www.kaggle.com/learn/intro-to-sql) micro-course."
   ]
  },
  {
   "cell_type": "code",
   "execution_count": 3,
   "id": "7be38e68",
   "metadata": {
    "execution": {
     "iopub.execute_input": "2022-03-12T21:02:45.713179Z",
     "iopub.status.busy": "2022-03-12T21:02:45.712571Z",
     "iopub.status.idle": "2022-03-12T21:02:46.702416Z",
     "shell.execute_reply": "2022-03-12T21:02:46.701666Z",
     "shell.execute_reply.started": "2022-03-12T20:54:52.361888Z"
    },
    "papermill": {
     "duration": 1.015085,
     "end_time": "2022-03-12T21:02:46.702535",
     "exception": false,
     "start_time": "2022-03-12T21:02:45.687450",
     "status": "completed"
    },
    "tags": []
   },
   "outputs": [
    {
     "name": "stderr",
     "output_type": "stream",
     "text": [
      "/opt/conda/lib/python3.7/site-packages/google/cloud/bigquery/client.py:440: UserWarning: Cannot create BigQuery Storage client, the dependency google-cloud-bigquery-storage is not installed.\n",
      "  \"Cannot create BigQuery Storage client, the dependency \"\n"
     ]
    },
    {
     "data": {
      "text/html": [
       "<div>\n",
       "<style scoped>\n",
       "    .dataframe tbody tr th:only-of-type {\n",
       "        vertical-align: middle;\n",
       "    }\n",
       "\n",
       "    .dataframe tbody tr th {\n",
       "        vertical-align: top;\n",
       "    }\n",
       "\n",
       "    .dataframe thead th {\n",
       "        text-align: right;\n",
       "    }\n",
       "</style>\n",
       "<table border=\"1\" class=\"dataframe\">\n",
       "  <thead>\n",
       "    <tr style=\"text-align: right;\">\n",
       "      <th></th>\n",
       "      <th>trip_date</th>\n",
       "      <th>avg_num_trips</th>\n",
       "    </tr>\n",
       "  </thead>\n",
       "  <tbody>\n",
       "    <tr>\n",
       "      <th>0</th>\n",
       "      <td>2016-01-01</td>\n",
       "      <td>80461.937500</td>\n",
       "    </tr>\n",
       "    <tr>\n",
       "      <th>1</th>\n",
       "      <td>2016-01-02</td>\n",
       "      <td>80150.647059</td>\n",
       "    </tr>\n",
       "    <tr>\n",
       "      <th>2</th>\n",
       "      <td>2016-01-03</td>\n",
       "      <td>79419.611111</td>\n",
       "    </tr>\n",
       "    <tr>\n",
       "      <th>3</th>\n",
       "      <td>2016-01-04</td>\n",
       "      <td>79810.421053</td>\n",
       "    </tr>\n",
       "    <tr>\n",
       "      <th>4</th>\n",
       "      <td>2016-01-05</td>\n",
       "      <td>80293.900000</td>\n",
       "    </tr>\n",
       "  </tbody>\n",
       "</table>\n",
       "</div>"
      ],
      "text/plain": [
       "    trip_date  avg_num_trips\n",
       "0  2016-01-01   80461.937500\n",
       "1  2016-01-02   80150.647059\n",
       "2  2016-01-03   79419.611111\n",
       "3  2016-01-04   79810.421053\n",
       "4  2016-01-05   80293.900000"
      ]
     },
     "metadata": {},
     "output_type": "display_data"
    },
    {
     "data": {
      "application/javascript": [
       "parent.postMessage({\"jupyterEvent\": \"custom.exercise_interaction\", \"data\": {\"outcomeType\": 1, \"valueTowardsCompletion\": 0.3333333333333333, \"interactionType\": 1, \"questionType\": 2, \"questionId\": \"1_TaxiDemand\", \"learnToolsVersion\": \"0.3.4\", \"failureMessage\": \"\", \"exceptionClass\": \"\", \"trace\": \"\"}}, \"*\")"
      ],
      "text/plain": [
       "<IPython.core.display.Javascript object>"
      ]
     },
     "metadata": {},
     "output_type": "display_data"
    },
    {
     "data": {
      "text/markdown": [
       "<span style=\"color:#33cc33\">Correct</span>"
      ],
      "text/plain": [
       "Correct"
      ]
     },
     "metadata": {},
     "output_type": "display_data"
    }
   ],
   "source": [
    "# Fill in the blank below\n",
    "avg_num_trips_query = \"\"\"\n",
    "                      WITH trips_by_day AS\n",
    "                      (\n",
    "                      SELECT DATE(trip_start_timestamp) AS trip_date,\n",
    "                          COUNT(*) as num_trips\n",
    "                      FROM `bigquery-public-data.chicago_taxi_trips.taxi_trips`\n",
    "                      WHERE trip_start_timestamp >= '2016-01-01' AND trip_start_timestamp < '2018-01-01'\n",
    "                      GROUP BY trip_date\n",
    "                      ORDER BY trip_date\n",
    "                      )\n",
    "                      SELECT trip_date,\n",
    "                          AVG(num_trips)\n",
    "                          OVER (\n",
    "                               ORDER BY trip_date\n",
    "                               ROWS BETWEEN 15 PRECEDING AND 15 FOLLOWING\n",
    "                               ) AS avg_num_trips\n",
    "                      FROM trips_by_day\n",
    "                      \"\"\"\n",
    "\n",
    "# Check your answer\n",
    "q_1.check()"
   ]
  },
  {
   "cell_type": "code",
   "execution_count": 4,
   "id": "80bf5a17",
   "metadata": {
    "execution": {
     "iopub.execute_input": "2022-03-12T21:02:46.735914Z",
     "iopub.status.busy": "2022-03-12T21:02:46.735238Z",
     "iopub.status.idle": "2022-03-12T21:02:46.738610Z",
     "shell.execute_reply": "2022-03-12T21:02:46.739023Z"
    },
    "papermill": {
     "duration": 0.021208,
     "end_time": "2022-03-12T21:02:46.739163",
     "exception": false,
     "start_time": "2022-03-12T21:02:46.717955",
     "status": "completed"
    },
    "tags": []
   },
   "outputs": [],
   "source": [
    "# Lines below will give you a hint or solution code\n",
    "#q_1.hint()\n",
    "#q_1.solution()"
   ]
  },
  {
   "cell_type": "markdown",
   "id": "f8dbf5da",
   "metadata": {
    "papermill": {
     "duration": 0.014182,
     "end_time": "2022-03-12T21:02:46.768162",
     "exception": false,
     "start_time": "2022-03-12T21:02:46.753980",
     "status": "completed"
    },
    "tags": []
   },
   "source": [
    "### 2) Can you separate and order trips by community area?\n",
    "\n",
    "The query below returns a DataFrame with three columns from the table: `pickup_community_area`, `trip_start_timestamp`, and `trip_end_timestamp`.  \n",
    "\n",
    "Amend the query to return an additional column called `trip_number` which shows the order in which the trips were taken from their respective community areas.  So, the first trip of the day originating from community area 1 should receive a value of 1; the second trip of the day from the same area should receive a value of 2.  Likewise, the first trip of the day from community area 2 should receive a value of 1, and so on.\n",
    "\n",
    "Note that there are many numbering functions that can be used to solve this problem (depending on how you want to deal with trips that started at the same time from the same community area); to answer this question, please use the **RANK()** function."
   ]
  },
  {
   "cell_type": "code",
   "execution_count": 5,
   "id": "594d9472",
   "metadata": {
    "execution": {
     "iopub.execute_input": "2022-03-12T21:02:46.800157Z",
     "iopub.status.busy": "2022-03-12T21:02:46.799456Z",
     "iopub.status.idle": "2022-03-12T21:02:51.503698Z",
     "shell.execute_reply": "2022-03-12T21:02:51.504212Z",
     "shell.execute_reply.started": "2022-03-12T20:59:16.293384Z"
    },
    "papermill": {
     "duration": 4.721731,
     "end_time": "2022-03-12T21:02:51.504375",
     "exception": false,
     "start_time": "2022-03-12T21:02:46.782644",
     "status": "completed"
    },
    "tags": []
   },
   "outputs": [
    {
     "name": "stderr",
     "output_type": "stream",
     "text": [
      "/opt/conda/lib/python3.7/site-packages/google/cloud/bigquery/client.py:440: UserWarning: Cannot create BigQuery Storage client, the dependency google-cloud-bigquery-storage is not installed.\n",
      "  \"Cannot create BigQuery Storage client, the dependency \"\n"
     ]
    },
    {
     "data": {
      "text/html": [
       "<div>\n",
       "<style scoped>\n",
       "    .dataframe tbody tr th:only-of-type {\n",
       "        vertical-align: middle;\n",
       "    }\n",
       "\n",
       "    .dataframe tbody tr th {\n",
       "        vertical-align: top;\n",
       "    }\n",
       "\n",
       "    .dataframe thead th {\n",
       "        text-align: right;\n",
       "    }\n",
       "</style>\n",
       "<table border=\"1\" class=\"dataframe\">\n",
       "  <thead>\n",
       "    <tr style=\"text-align: right;\">\n",
       "      <th></th>\n",
       "      <th>pickup_community_area</th>\n",
       "      <th>trip_start_timestamp</th>\n",
       "      <th>trip_end_timestamp</th>\n",
       "      <th>trip_number</th>\n",
       "    </tr>\n",
       "  </thead>\n",
       "  <tbody>\n",
       "    <tr>\n",
       "      <th>0</th>\n",
       "      <td>19.0</td>\n",
       "      <td>2017-05-01 00:30:00+00:00</td>\n",
       "      <td>2017-05-01 01:15:00+00:00</td>\n",
       "      <td>1</td>\n",
       "    </tr>\n",
       "    <tr>\n",
       "      <th>1</th>\n",
       "      <td>19.0</td>\n",
       "      <td>2017-05-01 01:15:00+00:00</td>\n",
       "      <td>2017-05-01 01:30:00+00:00</td>\n",
       "      <td>2</td>\n",
       "    </tr>\n",
       "    <tr>\n",
       "      <th>2</th>\n",
       "      <td>19.0</td>\n",
       "      <td>2017-05-01 01:45:00+00:00</td>\n",
       "      <td>2017-05-01 01:45:00+00:00</td>\n",
       "      <td>3</td>\n",
       "    </tr>\n",
       "    <tr>\n",
       "      <th>3</th>\n",
       "      <td>19.0</td>\n",
       "      <td>2017-05-01 02:15:00+00:00</td>\n",
       "      <td>2017-05-01 02:30:00+00:00</td>\n",
       "      <td>4</td>\n",
       "    </tr>\n",
       "    <tr>\n",
       "      <th>4</th>\n",
       "      <td>19.0</td>\n",
       "      <td>2017-05-01 02:15:00+00:00</td>\n",
       "      <td>2017-05-01 02:30:00+00:00</td>\n",
       "      <td>4</td>\n",
       "    </tr>\n",
       "  </tbody>\n",
       "</table>\n",
       "</div>"
      ],
      "text/plain": [
       "   pickup_community_area      trip_start_timestamp        trip_end_timestamp  \\\n",
       "0                   19.0 2017-05-01 00:30:00+00:00 2017-05-01 01:15:00+00:00   \n",
       "1                   19.0 2017-05-01 01:15:00+00:00 2017-05-01 01:30:00+00:00   \n",
       "2                   19.0 2017-05-01 01:45:00+00:00 2017-05-01 01:45:00+00:00   \n",
       "3                   19.0 2017-05-01 02:15:00+00:00 2017-05-01 02:30:00+00:00   \n",
       "4                   19.0 2017-05-01 02:15:00+00:00 2017-05-01 02:30:00+00:00   \n",
       "\n",
       "   trip_number  \n",
       "0            1  \n",
       "1            2  \n",
       "2            3  \n",
       "3            4  \n",
       "4            4  "
      ]
     },
     "metadata": {},
     "output_type": "display_data"
    },
    {
     "data": {
      "application/javascript": [
       "parent.postMessage({\"jupyterEvent\": \"custom.exercise_interaction\", \"data\": {\"outcomeType\": 1, \"valueTowardsCompletion\": 0.3333333333333333, \"interactionType\": 1, \"questionType\": 2, \"questionId\": \"2_CommunityArea\", \"learnToolsVersion\": \"0.3.4\", \"failureMessage\": \"\", \"exceptionClass\": \"\", \"trace\": \"\"}}, \"*\")"
      ],
      "text/plain": [
       "<IPython.core.display.Javascript object>"
      ]
     },
     "metadata": {},
     "output_type": "display_data"
    },
    {
     "data": {
      "text/markdown": [
       "<span style=\"color:#33cc33\">Correct</span>"
      ],
      "text/plain": [
       "Correct"
      ]
     },
     "metadata": {},
     "output_type": "display_data"
    }
   ],
   "source": [
    "# Amend the query below\n",
    "trip_number_query = \"\"\"\n",
    "                    SELECT pickup_community_area,\n",
    "                        trip_start_timestamp,\n",
    "                        trip_end_timestamp,\n",
    "                        RANK()\n",
    "                        OVER (\n",
    "                            PARTITION BY pickup_community_area\n",
    "                            ORDER BY trip_start_timestamp\n",
    "                        ) as trip_number\n",
    "                    FROM `bigquery-public-data.chicago_taxi_trips.taxi_trips`\n",
    "                    WHERE DATE(trip_start_timestamp) = '2017-05-01'\n",
    "                    \"\"\"\n",
    "\n",
    "# Check your answer\n",
    "q_2.check()"
   ]
  },
  {
   "cell_type": "code",
   "execution_count": 6,
   "id": "97703db5",
   "metadata": {
    "execution": {
     "iopub.execute_input": "2022-03-12T21:02:51.560180Z",
     "iopub.status.busy": "2022-03-12T21:02:51.559572Z",
     "iopub.status.idle": "2022-03-12T21:02:51.562697Z",
     "shell.execute_reply": "2022-03-12T21:02:51.562106Z",
     "shell.execute_reply.started": "2022-03-12T20:58:16.978205Z"
    },
    "papermill": {
     "duration": 0.031492,
     "end_time": "2022-03-12T21:02:51.562808",
     "exception": false,
     "start_time": "2022-03-12T21:02:51.531316",
     "status": "completed"
    },
    "tags": []
   },
   "outputs": [],
   "source": [
    "# Lines below will give you a hint or solution code\n",
    "#q_2.hint()\n",
    "#q_2.solution()"
   ]
  },
  {
   "cell_type": "markdown",
   "id": "34233cc1",
   "metadata": {
    "papermill": {
     "duration": 0.024105,
     "end_time": "2022-03-12T21:02:51.611554",
     "exception": false,
     "start_time": "2022-03-12T21:02:51.587449",
     "status": "completed"
    },
    "tags": []
   },
   "source": [
    "### 3) How much time elapses between trips?\n",
    "\n",
    "The (partial) query in the code cell below shows, for each trip in the selected time frame, the corresponding `taxi_id`, `trip_start_timestamp`, and `trip_end_timestamp`. \n",
    "\n",
    "Your task in this exercise is to edit the query to include an additional `prev_break` column that shows the length of the break (in minutes) that the driver had before each trip started (this corresponds to the time between `trip_start_timestamp` of the current trip and `trip_end_timestamp` of the previous trip).  Partition the calculation by `taxi_id`, and order the results within each partition by `trip_start_timestamp`.\n",
    "\n",
    "Some sample results are shown below, where all rows correspond to the same driver (or `taxi_id`).  Take the time now to make sure that the values in the `prev_break` column make sense to you!\n",
    "\n",
    "![first_commands](https://i.imgur.com/qjvQzg8.png)\n",
    "\n",
    "Note that the first trip of the day for each driver should have a value of **NaN** (not a number) in the `prev_break` column."
   ]
  },
  {
   "cell_type": "code",
   "execution_count": 7,
   "id": "dce07f22",
   "metadata": {
    "execution": {
     "iopub.execute_input": "2022-03-12T21:02:51.664157Z",
     "iopub.status.busy": "2022-03-12T21:02:51.663395Z",
     "iopub.status.idle": "2022-03-12T21:02:51.978171Z",
     "shell.execute_reply": "2022-03-12T21:02:51.978648Z"
    },
    "papermill": {
     "duration": 0.342638,
     "end_time": "2022-03-12T21:02:51.978799",
     "exception": false,
     "start_time": "2022-03-12T21:02:51.636161",
     "status": "completed"
    },
    "tags": []
   },
   "outputs": [
    {
     "data": {
      "application/javascript": [
       "parent.postMessage({\"jupyterEvent\": \"custom.exercise_interaction\", \"data\": {\"outcomeType\": 2, \"failureMessage\": \"You don't have a valid query yet.  Try again.\", \"interactionType\": 1, \"questionType\": 2, \"questionId\": \"3_BreakTime\", \"learnToolsVersion\": \"0.3.4\", \"valueTowardsCompletion\": 0.0, \"exceptionClass\": \"\", \"trace\": \"\"}}, \"*\")"
      ],
      "text/plain": [
       "<IPython.core.display.Javascript object>"
      ]
     },
     "metadata": {},
     "output_type": "display_data"
    },
    {
     "data": {
      "text/markdown": [
       "<span style=\"color:#cc3333\">Incorrect:</span> You don't have a valid query yet.  Try again."
      ],
      "text/plain": [
       "Incorrect: You don't have a valid query yet.  Try again."
      ]
     },
     "metadata": {},
     "output_type": "display_data"
    }
   ],
   "source": [
    "# Fill in the blanks below\n",
    "break_time_query = \"\"\"\n",
    "                   SELECT taxi_id,\n",
    "                       trip_start_timestamp,\n",
    "                       trip_end_timestamp,\n",
    "                       TIMESTAMP_DIFF(\n",
    "                           trip_start_timestamp, \n",
    "                           ____ \n",
    "                               OVER (\n",
    "                                    PARTITION BY ____ \n",
    "                                    ORDER BY ____), \n",
    "                           MINUTE) as prev_break\n",
    "                   FROM `bigquery-public-data.chicago_taxi_trips.taxi_trips`\n",
    "                   WHERE DATE(trip_start_timestamp) = '2017-05-01' \n",
    "                   \"\"\"\n",
    "\n",
    "# Check your answer\n",
    "q_3.check()"
   ]
  },
  {
   "cell_type": "code",
   "execution_count": 8,
   "id": "58c3016b",
   "metadata": {
    "execution": {
     "iopub.execute_input": "2022-03-12T21:02:52.034203Z",
     "iopub.status.busy": "2022-03-12T21:02:52.033603Z",
     "iopub.status.idle": "2022-03-12T21:02:52.036110Z",
     "shell.execute_reply": "2022-03-12T21:02:52.036576Z"
    },
    "papermill": {
     "duration": 0.031642,
     "end_time": "2022-03-12T21:02:52.036701",
     "exception": false,
     "start_time": "2022-03-12T21:02:52.005059",
     "status": "completed"
    },
    "tags": []
   },
   "outputs": [],
   "source": [
    "# Lines below will give you a hint or solution code\n",
    "#q_3.hint()\n",
    "#q_3.solution()"
   ]
  },
  {
   "cell_type": "markdown",
   "id": "7a2305f0",
   "metadata": {
    "papermill": {
     "duration": 0.026008,
     "end_time": "2022-03-12T21:02:52.089129",
     "exception": false,
     "start_time": "2022-03-12T21:02:52.063121",
     "status": "completed"
    },
    "tags": []
   },
   "source": [
    "# Keep going\n",
    "\n",
    "Move on to learn how to query **[nested and repeated data](https://www.kaggle.com/alexisbcook/nested-and-repeated-data)**."
   ]
  },
  {
   "cell_type": "markdown",
   "id": "d73195e3",
   "metadata": {
    "papermill": {
     "duration": 0.026011,
     "end_time": "2022-03-12T21:02:52.141406",
     "exception": false,
     "start_time": "2022-03-12T21:02:52.115395",
     "status": "completed"
    },
    "tags": []
   },
   "source": [
    "---\n",
    "\n",
    "\n",
    "\n",
    "\n",
    "*Have questions or comments? Visit the [course discussion forum](https://www.kaggle.com/learn/advanced-sql/discussion) to chat with other learners.*"
   ]
  }
 ],
 "metadata": {
  "kernelspec": {
   "display_name": "Python 3",
   "language": "python",
   "name": "python3"
  },
  "language_info": {
   "codemirror_mode": {
    "name": "ipython",
    "version": 3
   },
   "file_extension": ".py",
   "mimetype": "text/x-python",
   "name": "python",
   "nbconvert_exporter": "python",
   "pygments_lexer": "ipython3",
   "version": "3.7.12"
  },
  "papermill": {
   "default_parameters": {},
   "duration": 34.604501,
   "end_time": "2022-03-12T21:02:52.776917",
   "environment_variables": {},
   "exception": null,
   "input_path": "__notebook__.ipynb",
   "output_path": "__notebook__.ipynb",
   "parameters": {},
   "start_time": "2022-03-12T21:02:18.172416",
   "version": "2.3.3"
  }
 },
 "nbformat": 4,
 "nbformat_minor": 5
}
